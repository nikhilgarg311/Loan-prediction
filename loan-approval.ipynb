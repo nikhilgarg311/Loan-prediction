{
 "cells": [
  {
   "cell_type": "markdown",
   "id": "returning-herald",
   "metadata": {
    "papermill": {
     "duration": 0.080071,
     "end_time": "2021-06-19T20:53:18.881524",
     "exception": false,
     "start_time": "2021-06-19T20:53:18.801453",
     "status": "completed"
    },
    "tags": []
   },
   "source": [
    "# **Loan Prediction**"
   ]
  },
  {
   "cell_type": "code",
   "execution_count": 2,
   "id": "spatial-grant",
   "metadata": {
    "execution": {
     "iopub.execute_input": "2021-06-19T20:53:19.034721Z",
     "iopub.status.busy": "2021-06-19T20:53:19.034013Z",
     "iopub.status.idle": "2021-06-19T20:53:20.150522Z",
     "shell.execute_reply": "2021-06-19T20:53:20.149684Z",
     "shell.execute_reply.started": "2021-06-19T20:52:15.535978Z"
    },
    "papermill": {
     "duration": 1.192938,
     "end_time": "2021-06-19T20:53:20.150712",
     "exception": false,
     "start_time": "2021-06-19T20:53:18.957774",
     "status": "completed"
    },
    "tags": []
   },
   "outputs": [],
   "source": [
    "import pandas as pd\n",
    "import numpy as np\n",
    "import matplotlib.pyplot as plt\n",
    "import seaborn as sns\n",
    "from sklearn.model_selection import train_test_split\n",
    "train=pd.read_csv('train_ctrUa4K.csv')\n",
    "test=pd.read_csv('test_lAUu6dG.csv')"
   ]
  },
  {
   "cell_type": "code",
   "execution_count": 3,
   "id": "absolute-wagon",
   "metadata": {
    "execution": {
     "iopub.execute_input": "2021-06-19T20:53:20.293577Z",
     "iopub.status.busy": "2021-06-19T20:53:20.292897Z",
     "iopub.status.idle": "2021-06-19T20:53:20.324430Z",
     "shell.execute_reply": "2021-06-19T20:53:20.323650Z",
     "shell.execute_reply.started": "2021-06-19T20:52:15.568172Z"
    },
    "papermill": {
     "duration": 0.108471,
     "end_time": "2021-06-19T20:53:20.324595",
     "exception": false,
     "start_time": "2021-06-19T20:53:20.216124",
     "status": "completed"
    },
    "tags": []
   },
   "outputs": [
    {
     "data": {
      "text/html": [
       "<div>\n",
       "<style scoped>\n",
       "    .dataframe tbody tr th:only-of-type {\n",
       "        vertical-align: middle;\n",
       "    }\n",
       "\n",
       "    .dataframe tbody tr th {\n",
       "        vertical-align: top;\n",
       "    }\n",
       "\n",
       "    .dataframe thead th {\n",
       "        text-align: right;\n",
       "    }\n",
       "</style>\n",
       "<table border=\"1\" class=\"dataframe\">\n",
       "  <thead>\n",
       "    <tr style=\"text-align: right;\">\n",
       "      <th></th>\n",
       "      <th>Loan_ID</th>\n",
       "      <th>Gender</th>\n",
       "      <th>Married</th>\n",
       "      <th>Dependents</th>\n",
       "      <th>Education</th>\n",
       "      <th>Self_Employed</th>\n",
       "      <th>ApplicantIncome</th>\n",
       "      <th>CoapplicantIncome</th>\n",
       "      <th>LoanAmount</th>\n",
       "      <th>Loan_Amount_Term</th>\n",
       "      <th>Credit_History</th>\n",
       "      <th>Property_Area</th>\n",
       "      <th>Loan_Status</th>\n",
       "    </tr>\n",
       "  </thead>\n",
       "  <tbody>\n",
       "    <tr>\n",
       "      <th>0</th>\n",
       "      <td>LP001002</td>\n",
       "      <td>Male</td>\n",
       "      <td>No</td>\n",
       "      <td>0</td>\n",
       "      <td>Graduate</td>\n",
       "      <td>No</td>\n",
       "      <td>5849</td>\n",
       "      <td>0.0</td>\n",
       "      <td>NaN</td>\n",
       "      <td>360.0</td>\n",
       "      <td>1.0</td>\n",
       "      <td>Urban</td>\n",
       "      <td>Y</td>\n",
       "    </tr>\n",
       "    <tr>\n",
       "      <th>1</th>\n",
       "      <td>LP001003</td>\n",
       "      <td>Male</td>\n",
       "      <td>Yes</td>\n",
       "      <td>1</td>\n",
       "      <td>Graduate</td>\n",
       "      <td>No</td>\n",
       "      <td>4583</td>\n",
       "      <td>1508.0</td>\n",
       "      <td>128.0</td>\n",
       "      <td>360.0</td>\n",
       "      <td>1.0</td>\n",
       "      <td>Rural</td>\n",
       "      <td>N</td>\n",
       "    </tr>\n",
       "    <tr>\n",
       "      <th>2</th>\n",
       "      <td>LP001005</td>\n",
       "      <td>Male</td>\n",
       "      <td>Yes</td>\n",
       "      <td>0</td>\n",
       "      <td>Graduate</td>\n",
       "      <td>Yes</td>\n",
       "      <td>3000</td>\n",
       "      <td>0.0</td>\n",
       "      <td>66.0</td>\n",
       "      <td>360.0</td>\n",
       "      <td>1.0</td>\n",
       "      <td>Urban</td>\n",
       "      <td>Y</td>\n",
       "    </tr>\n",
       "    <tr>\n",
       "      <th>3</th>\n",
       "      <td>LP001006</td>\n",
       "      <td>Male</td>\n",
       "      <td>Yes</td>\n",
       "      <td>0</td>\n",
       "      <td>Not Graduate</td>\n",
       "      <td>No</td>\n",
       "      <td>2583</td>\n",
       "      <td>2358.0</td>\n",
       "      <td>120.0</td>\n",
       "      <td>360.0</td>\n",
       "      <td>1.0</td>\n",
       "      <td>Urban</td>\n",
       "      <td>Y</td>\n",
       "    </tr>\n",
       "    <tr>\n",
       "      <th>4</th>\n",
       "      <td>LP001008</td>\n",
       "      <td>Male</td>\n",
       "      <td>No</td>\n",
       "      <td>0</td>\n",
       "      <td>Graduate</td>\n",
       "      <td>No</td>\n",
       "      <td>6000</td>\n",
       "      <td>0.0</td>\n",
       "      <td>141.0</td>\n",
       "      <td>360.0</td>\n",
       "      <td>1.0</td>\n",
       "      <td>Urban</td>\n",
       "      <td>Y</td>\n",
       "    </tr>\n",
       "  </tbody>\n",
       "</table>\n",
       "</div>"
      ],
      "text/plain": [
       "    Loan_ID Gender Married Dependents     Education Self_Employed  \\\n",
       "0  LP001002   Male      No          0      Graduate            No   \n",
       "1  LP001003   Male     Yes          1      Graduate            No   \n",
       "2  LP001005   Male     Yes          0      Graduate           Yes   \n",
       "3  LP001006   Male     Yes          0  Not Graduate            No   \n",
       "4  LP001008   Male      No          0      Graduate            No   \n",
       "\n",
       "   ApplicantIncome  CoapplicantIncome  LoanAmount  Loan_Amount_Term  \\\n",
       "0             5849                0.0         NaN             360.0   \n",
       "1             4583             1508.0       128.0             360.0   \n",
       "2             3000                0.0        66.0             360.0   \n",
       "3             2583             2358.0       120.0             360.0   \n",
       "4             6000                0.0       141.0             360.0   \n",
       "\n",
       "   Credit_History Property_Area Loan_Status  \n",
       "0             1.0         Urban           Y  \n",
       "1             1.0         Rural           N  \n",
       "2             1.0         Urban           Y  \n",
       "3             1.0         Urban           Y  \n",
       "4             1.0         Urban           Y  "
      ]
     },
     "execution_count": 3,
     "metadata": {},
     "output_type": "execute_result"
    }
   ],
   "source": [
    "df=pd.DataFrame(data=train)\n",
    "df.head()"
   ]
  },
  {
   "cell_type": "code",
   "execution_count": 4,
   "id": "applied-rwanda",
   "metadata": {
    "execution": {
     "iopub.execute_input": "2021-06-19T20:53:20.460667Z",
     "iopub.status.busy": "2021-06-19T20:53:20.459880Z",
     "iopub.status.idle": "2021-06-19T20:53:20.463909Z",
     "shell.execute_reply": "2021-06-19T20:53:20.465058Z",
     "shell.execute_reply.started": "2021-06-19T20:52:15.615980Z"
    },
    "papermill": {
     "duration": 0.075627,
     "end_time": "2021-06-19T20:53:20.465379",
     "exception": false,
     "start_time": "2021-06-19T20:53:20.389752",
     "status": "completed"
    },
    "tags": []
   },
   "outputs": [
    {
     "name": "stdout",
     "output_type": "stream",
     "text": [
      "614\n"
     ]
    }
   ],
   "source": [
    "index = df. index\n",
    "number_of_rows = len(index)\n",
    "print(number_of_rows)"
   ]
  },
  {
   "cell_type": "code",
   "execution_count": 5,
   "id": "plain-airfare",
   "metadata": {
    "execution": {
     "iopub.execute_input": "2021-06-19T20:53:20.600061Z",
     "iopub.status.busy": "2021-06-19T20:53:20.598957Z",
     "iopub.status.idle": "2021-06-19T20:53:21.032186Z",
     "shell.execute_reply": "2021-06-19T20:53:21.031532Z",
     "shell.execute_reply.started": "2021-06-19T20:52:15.632414Z"
    },
    "papermill": {
     "duration": 0.500979,
     "end_time": "2021-06-19T20:53:21.032329",
     "exception": false,
     "start_time": "2021-06-19T20:53:20.531350",
     "status": "completed"
    },
    "tags": []
   },
   "outputs": [
    {
     "data": {
      "image/png": "[encoded data removed]",
      "text/plain": [
       "<Figure size 1440x1440 with 2 Axes>"
      ]
     },
     "metadata": {
      "needs_background": "light"
     },
     "output_type": "display_data"
    }
   ],
   "source": [
    "#get correlations of each features in dataset\n",
    "corrmat = df.corr()\n",
    "top_corr_features = corrmat.index\n",
    "plt.figure(figsize=(20,20))\n",
    "#plot heat map\n",
    "g=sns.heatmap(df[top_corr_features].corr(),annot=True,cmap=\"RdYlGn\")"
   ]
  },
  {
   "cell_type": "code",
   "execution_count": 6,
   "id": "verbal-flesh",
   "metadata": {
    "execution": {
     "iopub.execute_input": "2021-06-19T20:53:21.172006Z",
     "iopub.status.busy": "2021-06-19T20:53:21.171118Z",
     "iopub.status.idle": "2021-06-19T20:53:21.174852Z",
     "shell.execute_reply": "2021-06-19T20:53:21.175293Z",
     "shell.execute_reply.started": "2021-06-19T20:52:16.070845Z"
    },
    "papermill": {
     "duration": 0.07729,
     "end_time": "2021-06-19T20:53:21.175468",
     "exception": false,
     "start_time": "2021-06-19T20:53:21.098178",
     "status": "completed"
    },
    "tags": []
   },
   "outputs": [
    {
     "data": {
      "text/plain": [
       "Loan_ID               object\n",
       "Gender                object\n",
       "Married               object\n",
       "Dependents            object\n",
       "Education             object\n",
       "Self_Employed         object\n",
       "ApplicantIncome        int64\n",
       "CoapplicantIncome    float64\n",
       "LoanAmount           float64\n",
       "Loan_Amount_Term     float64\n",
       "Credit_History       float64\n",
       "Property_Area         object\n",
       "Loan_Status           object\n",
       "dtype: object"
      ]
     },
     "execution_count": 6,
     "metadata": {},
     "output_type": "execute_result"
    }
   ],
   "source": [
    "df.dtypes"
   ]
  },
  {
   "cell_type": "code",
   "execution_count": 7,
   "id": "focal-bridge",
   "metadata": {
    "execution": {
     "iopub.execute_input": "2021-06-19T20:53:21.316508Z",
     "iopub.status.busy": "2021-06-19T20:53:21.315461Z",
     "iopub.status.idle": "2021-06-19T20:53:21.697385Z",
     "shell.execute_reply": "2021-06-19T20:53:21.697850Z",
     "shell.execute_reply.started": "2021-06-19T20:52:16.080262Z"
    },
    "papermill": {
     "duration": 0.455579,
     "end_time": "2021-06-19T20:53:21.698031",
     "exception": false,
     "start_time": "2021-06-19T20:53:21.242452",
     "status": "completed"
    },
    "tags": []
   },
   "outputs": [
    {
     "data": {
      "text/plain": [
       "<AxesSubplot:>"
      ]
     },
     "execution_count": 7,
     "metadata": {},
     "output_type": "execute_result"
    },
    {
     "data": {
      "image/png": "[encoded data removed]",
      "text/plain": [
       "<Figure size 432x288 with 2 Axes>"
      ]
     },
     "metadata": {
      "needs_background": "light"
     },
     "output_type": "display_data"
    }
   ],
   "source": [
    "sns.heatmap(df.isnull())"
   ]
  },
  {
   "cell_type": "code",
   "execution_count": 8,
   "id": "animated-large",
   "metadata": {
    "execution": {
     "iopub.execute_input": "2021-06-19T20:53:21.838710Z",
     "iopub.status.busy": "2021-06-19T20:53:21.837656Z",
     "iopub.status.idle": "2021-06-19T20:53:21.848719Z",
     "shell.execute_reply": "2021-06-19T20:53:21.848182Z",
     "shell.execute_reply.started": "2021-06-19T20:52:16.571679Z"
    },
    "papermill": {
     "duration": 0.083507,
     "end_time": "2021-06-19T20:53:21.848888",
     "exception": false,
     "start_time": "2021-06-19T20:53:21.765381",
     "status": "completed"
    },
    "tags": []
   },
   "outputs": [
    {
     "data": {
      "text/plain": [
       "0    Male\n",
       "dtype: object"
      ]
     },
     "execution_count": 8,
     "metadata": {},
     "output_type": "execute_result"
    }
   ],
   "source": [
    "df[\"Gender\"].mode()\n"
   ]
  },
  {
   "cell_type": "code",
   "execution_count": 9,
   "id": "clean-retailer",
   "metadata": {
    "execution": {
     "iopub.execute_input": "2021-06-19T20:53:21.991516Z",
     "iopub.status.busy": "2021-06-19T20:53:21.990852Z",
     "iopub.status.idle": "2021-06-19T20:53:21.992879Z",
     "shell.execute_reply": "2021-06-19T20:53:21.993318Z",
     "shell.execute_reply.started": "2021-06-19T20:52:16.580417Z"
    },
    "papermill": {
     "duration": 0.076673,
     "end_time": "2021-06-19T20:53:21.993493",
     "exception": false,
     "start_time": "2021-06-19T20:53:21.916820",
     "status": "completed"
    },
    "tags": []
   },
   "outputs": [],
   "source": [
    "df[\"Gender\"].fillna(\"Male\",inplace=True)"
   ]
  },
  {
   "cell_type": "code",
   "execution_count": 10,
   "id": "aquatic-dispute",
   "metadata": {
    "execution": {
     "iopub.execute_input": "2021-06-19T20:53:22.133657Z",
     "iopub.status.busy": "2021-06-19T20:53:22.133019Z",
     "iopub.status.idle": "2021-06-19T20:53:22.139428Z",
     "shell.execute_reply": "2021-06-19T20:53:22.139948Z",
     "shell.execute_reply.started": "2021-06-19T20:52:16.593120Z"
    },
    "papermill": {
     "duration": 0.078045,
     "end_time": "2021-06-19T20:53:22.140121",
     "exception": false,
     "start_time": "2021-06-19T20:53:22.062076",
     "status": "completed"
    },
    "tags": []
   },
   "outputs": [
    {
     "data": {
      "text/plain": [
       "0    Yes\n",
       "dtype: object"
      ]
     },
     "execution_count": 10,
     "metadata": {},
     "output_type": "execute_result"
    }
   ],
   "source": [
    "df[\"Married\"].mode()"
   ]
  },
  {
   "cell_type": "code",
   "execution_count": 11,
   "id": "reduced-evening",
   "metadata": {
    "execution": {
     "iopub.execute_input": "2021-06-19T20:53:22.285615Z",
     "iopub.status.busy": "2021-06-19T20:53:22.284922Z",
     "iopub.status.idle": "2021-06-19T20:53:22.288109Z",
     "shell.execute_reply": "2021-06-19T20:53:22.287468Z",
     "shell.execute_reply.started": "2021-06-19T20:52:16.607545Z"
    },
    "papermill": {
     "duration": 0.078126,
     "end_time": "2021-06-19T20:53:22.288256",
     "exception": false,
     "start_time": "2021-06-19T20:53:22.210130",
     "status": "completed"
    },
    "tags": []
   },
   "outputs": [],
   "source": [
    "df[\"Married\"].fillna(\"Yes\",inplace=True)"
   ]
  },
  {
   "cell_type": "code",
   "execution_count": 12,
   "id": "married-startup",
   "metadata": {
    "execution": {
     "iopub.execute_input": "2021-06-19T20:53:22.431520Z",
     "iopub.status.busy": "2021-06-19T20:53:22.430606Z",
     "iopub.status.idle": "2021-06-19T20:53:22.434874Z",
     "shell.execute_reply": "2021-06-19T20:53:22.434213Z",
     "shell.execute_reply.started": "2021-06-19T20:52:16.621229Z"
    },
    "papermill": {
     "duration": 0.078365,
     "end_time": "2021-06-19T20:53:22.435013",
     "exception": false,
     "start_time": "2021-06-19T20:53:22.356648",
     "status": "completed"
    },
    "tags": []
   },
   "outputs": [
    {
     "data": {
      "text/plain": [
       "0    No\n",
       "dtype: object"
      ]
     },
     "execution_count": 12,
     "metadata": {},
     "output_type": "execute_result"
    }
   ],
   "source": [
    "df[\"Self_Employed\"].mode()\n",
    "\n"
   ]
  },
  {
   "cell_type": "code",
   "execution_count": 13,
   "id": "heavy-effort",
   "metadata": {
    "execution": {
     "iopub.execute_input": "2021-06-19T20:53:22.578615Z",
     "iopub.status.busy": "2021-06-19T20:53:22.577973Z",
     "iopub.status.idle": "2021-06-19T20:53:22.580743Z",
     "shell.execute_reply": "2021-06-19T20:53:22.581215Z",
     "shell.execute_reply.started": "2021-06-19T20:52:16.635748Z"
    },
    "papermill": {
     "duration": 0.077065,
     "end_time": "2021-06-19T20:53:22.581403",
     "exception": false,
     "start_time": "2021-06-19T20:53:22.504338",
     "status": "completed"
    },
    "tags": []
   },
   "outputs": [],
   "source": [
    "df[\"Self_Employed\"].fillna(\"No\",inplace=True)"
   ]
  },
  {
   "cell_type": "code",
   "execution_count": 14,
   "id": "metric-plate",
   "metadata": {
    "execution": {
     "iopub.execute_input": "2021-06-19T20:53:22.722101Z",
     "iopub.status.busy": "2021-06-19T20:53:22.721478Z",
     "iopub.status.idle": "2021-06-19T20:53:22.729887Z",
     "shell.execute_reply": "2021-06-19T20:53:22.729292Z",
     "shell.execute_reply.started": "2021-06-19T20:52:16.646466Z"
    },
    "papermill": {
     "duration": 0.079859,
     "end_time": "2021-06-19T20:53:22.730045",
     "exception": false,
     "start_time": "2021-06-19T20:53:22.650186",
     "status": "completed"
    },
    "tags": []
   },
   "outputs": [],
   "source": [
    "m=df[\"LoanAmount\"].median()"
   ]
  },
  {
   "cell_type": "code",
   "execution_count": 15,
   "id": "corrected-option",
   "metadata": {
    "execution": {
     "iopub.execute_input": "2021-06-19T20:53:22.871917Z",
     "iopub.status.busy": "2021-06-19T20:53:22.871181Z",
     "iopub.status.idle": "2021-06-19T20:53:22.876786Z",
     "shell.execute_reply": "2021-06-19T20:53:22.876222Z",
     "shell.execute_reply.started": "2021-06-19T20:52:16.663463Z"
    },
    "papermill": {
     "duration": 0.077333,
     "end_time": "2021-06-19T20:53:22.876926",
     "exception": false,
     "start_time": "2021-06-19T20:53:22.799593",
     "status": "completed"
    },
    "tags": []
   },
   "outputs": [],
   "source": [
    "\n",
    "df[\"LoanAmount\"].fillna(m,inplace=True)\n"
   ]
  },
  {
   "cell_type": "code",
   "execution_count": 16,
   "id": "upper-providence",
   "metadata": {
    "execution": {
     "iopub.execute_input": "2021-06-19T20:53:23.019096Z",
     "iopub.status.busy": "2021-06-19T20:53:23.018397Z",
     "iopub.status.idle": "2021-06-19T20:53:23.024852Z",
     "shell.execute_reply": "2021-06-19T20:53:23.025417Z",
     "shell.execute_reply.started": "2021-06-19T20:52:16.674062Z"
    },
    "papermill": {
     "duration": 0.079402,
     "end_time": "2021-06-19T20:53:23.025595",
     "exception": false,
     "start_time": "2021-06-19T20:53:22.946193",
     "status": "completed"
    },
    "tags": []
   },
   "outputs": [
    {
     "data": {
      "text/plain": [
       "0    360.0\n",
       "dtype: float64"
      ]
     },
     "execution_count": 16,
     "metadata": {},
     "output_type": "execute_result"
    }
   ],
   "source": [
    "df[\"Loan_Amount_Term\"].mode()"
   ]
  },
  {
   "cell_type": "code",
   "execution_count": 17,
   "id": "sufficient-class",
   "metadata": {
    "execution": {
     "iopub.execute_input": "2021-06-19T20:53:23.167900Z",
     "iopub.status.busy": "2021-06-19T20:53:23.167179Z",
     "iopub.status.idle": "2021-06-19T20:53:23.171809Z",
     "shell.execute_reply": "2021-06-19T20:53:23.172278Z",
     "shell.execute_reply.started": "2021-06-19T20:52:16.689854Z"
    },
    "papermill": {
     "duration": 0.078071,
     "end_time": "2021-06-19T20:53:23.172460",
     "exception": false,
     "start_time": "2021-06-19T20:53:23.094389",
     "status": "completed"
    },
    "tags": []
   },
   "outputs": [],
   "source": [
    "\n",
    "df[\"Loan_Amount_Term\"].fillna(360.0,inplace=True)\n"
   ]
  },
  {
   "cell_type": "code",
   "execution_count": 18,
   "id": "adopted-italic",
   "metadata": {
    "execution": {
     "iopub.execute_input": "2021-06-19T20:53:23.314036Z",
     "iopub.status.busy": "2021-06-19T20:53:23.313017Z",
     "iopub.status.idle": "2021-06-19T20:53:23.320117Z",
     "shell.execute_reply": "2021-06-19T20:53:23.320595Z",
     "shell.execute_reply.started": "2021-06-19T20:52:16.698614Z"
    },
    "papermill": {
     "duration": 0.079463,
     "end_time": "2021-06-19T20:53:23.320796",
     "exception": false,
     "start_time": "2021-06-19T20:53:23.241333",
     "status": "completed"
    },
    "tags": []
   },
   "outputs": [
    {
     "data": {
      "text/plain": [
       "0    1.0\n",
       "dtype: float64"
      ]
     },
     "execution_count": 18,
     "metadata": {},
     "output_type": "execute_result"
    }
   ],
   "source": [
    "df[\"Credit_History\"].mode()\n"
   ]
  },
  {
   "cell_type": "code",
   "execution_count": 19,
   "id": "according-malawi",
   "metadata": {
    "execution": {
     "iopub.execute_input": "2021-06-19T20:53:23.464901Z",
     "iopub.status.busy": "2021-06-19T20:53:23.463918Z",
     "iopub.status.idle": "2021-06-19T20:53:23.468493Z",
     "shell.execute_reply": "2021-06-19T20:53:23.468992Z",
     "shell.execute_reply.started": "2021-06-19T20:52:16.717624Z"
    },
    "papermill": {
     "duration": 0.079045,
     "end_time": "2021-06-19T20:53:23.469185",
     "exception": false,
     "start_time": "2021-06-19T20:53:23.390140",
     "status": "completed"
    },
    "tags": []
   },
   "outputs": [],
   "source": [
    "df[\"Credit_History\"].fillna(1.0,inplace=True)"
   ]
  },
  {
   "cell_type": "code",
   "execution_count": 20,
   "id": "superb-serum",
   "metadata": {
    "execution": {
     "iopub.execute_input": "2021-06-19T20:53:23.611785Z",
     "iopub.status.busy": "2021-06-19T20:53:23.610794Z",
     "iopub.status.idle": "2021-06-19T20:53:23.615661Z",
     "shell.execute_reply": "2021-06-19T20:53:23.616227Z",
     "shell.execute_reply.started": "2021-06-19T20:52:16.729110Z"
    },
    "papermill": {
     "duration": 0.078056,
     "end_time": "2021-06-19T20:53:23.616393",
     "exception": false,
     "start_time": "2021-06-19T20:53:23.538337",
     "status": "completed"
    },
    "tags": []
   },
   "outputs": [],
   "source": [
    "df.Dependents.fillna(\"0\",inplace=True)"
   ]
  },
  {
   "cell_type": "code",
   "execution_count": 21,
   "id": "suspected-runner",
   "metadata": {
    "execution": {
     "iopub.execute_input": "2021-06-19T20:53:23.759000Z",
     "iopub.status.busy": "2021-06-19T20:53:23.757961Z",
     "iopub.status.idle": "2021-06-19T20:53:23.765299Z",
     "shell.execute_reply": "2021-06-19T20:53:23.765740Z",
     "shell.execute_reply.started": "2021-06-19T20:52:16.742115Z"
    },
    "papermill": {
     "duration": 0.080492,
     "end_time": "2021-06-19T20:53:23.765930",
     "exception": false,
     "start_time": "2021-06-19T20:53:23.685438",
     "status": "completed"
    },
    "tags": []
   },
   "outputs": [
    {
     "data": {
      "text/plain": [
       "Loan_ID               object\n",
       "Gender                object\n",
       "Married               object\n",
       "Dependents            object\n",
       "Education             object\n",
       "Self_Employed         object\n",
       "ApplicantIncome        int64\n",
       "CoapplicantIncome    float64\n",
       "LoanAmount           float64\n",
       "Loan_Amount_Term     float64\n",
       "Credit_History       float64\n",
       "Property_Area         object\n",
       "Loan_Status           object\n",
       "dtype: object"
      ]
     },
     "execution_count": 21,
     "metadata": {},
     "output_type": "execute_result"
    }
   ],
   "source": [
    "df.dtypes"
   ]
  },
  {
   "cell_type": "code",
   "execution_count": 22,
   "id": "apart-computer",
   "metadata": {
    "execution": {
     "iopub.execute_input": "2021-06-19T20:53:23.911620Z",
     "iopub.status.busy": "2021-06-19T20:53:23.910580Z",
     "iopub.status.idle": "2021-06-19T20:53:23.935688Z",
     "shell.execute_reply": "2021-06-19T20:53:23.935160Z",
     "shell.execute_reply.started": "2021-06-19T20:52:16.760752Z"
    },
    "papermill": {
     "duration": 0.099782,
     "end_time": "2021-06-19T20:53:23.935864",
     "exception": false,
     "start_time": "2021-06-19T20:53:23.836082",
     "status": "completed"
    },
    "tags": []
   },
   "outputs": [
    {
     "data": {
      "text/html": [
       "<div>\n",
       "<style scoped>\n",
       "    .dataframe tbody tr th:only-of-type {\n",
       "        vertical-align: middle;\n",
       "    }\n",
       "\n",
       "    .dataframe tbody tr th {\n",
       "        vertical-align: top;\n",
       "    }\n",
       "\n",
       "    .dataframe thead th {\n",
       "        text-align: right;\n",
       "    }\n",
       "</style>\n",
       "<table border=\"1\" class=\"dataframe\">\n",
       "  <thead>\n",
       "    <tr style=\"text-align: right;\">\n",
       "      <th></th>\n",
       "      <th>Loan_ID</th>\n",
       "      <th>Gender</th>\n",
       "      <th>Married</th>\n",
       "      <th>Dependents</th>\n",
       "      <th>Education</th>\n",
       "      <th>Self_Employed</th>\n",
       "      <th>ApplicantIncome</th>\n",
       "      <th>CoapplicantIncome</th>\n",
       "      <th>LoanAmount</th>\n",
       "      <th>Loan_Amount_Term</th>\n",
       "      <th>Credit_History</th>\n",
       "      <th>Property_Area</th>\n",
       "      <th>Loan_Status</th>\n",
       "    </tr>\n",
       "  </thead>\n",
       "  <tbody>\n",
       "    <tr>\n",
       "      <th>0</th>\n",
       "      <td>LP001002</td>\n",
       "      <td>Male</td>\n",
       "      <td>No</td>\n",
       "      <td>0</td>\n",
       "      <td>Graduate</td>\n",
       "      <td>No</td>\n",
       "      <td>5849</td>\n",
       "      <td>0.0</td>\n",
       "      <td>128.0</td>\n",
       "      <td>360.0</td>\n",
       "      <td>1.0</td>\n",
       "      <td>Urban</td>\n",
       "      <td>Y</td>\n",
       "    </tr>\n",
       "    <tr>\n",
       "      <th>1</th>\n",
       "      <td>LP001003</td>\n",
       "      <td>Male</td>\n",
       "      <td>Yes</td>\n",
       "      <td>1</td>\n",
       "      <td>Graduate</td>\n",
       "      <td>No</td>\n",
       "      <td>4583</td>\n",
       "      <td>1508.0</td>\n",
       "      <td>128.0</td>\n",
       "      <td>360.0</td>\n",
       "      <td>1.0</td>\n",
       "      <td>Rural</td>\n",
       "      <td>N</td>\n",
       "    </tr>\n",
       "    <tr>\n",
       "      <th>2</th>\n",
       "      <td>LP001005</td>\n",
       "      <td>Male</td>\n",
       "      <td>Yes</td>\n",
       "      <td>0</td>\n",
       "      <td>Graduate</td>\n",
       "      <td>Yes</td>\n",
       "      <td>3000</td>\n",
       "      <td>0.0</td>\n",
       "      <td>66.0</td>\n",
       "      <td>360.0</td>\n",
       "      <td>1.0</td>\n",
       "      <td>Urban</td>\n",
       "      <td>Y</td>\n",
       "    </tr>\n",
       "    <tr>\n",
       "      <th>3</th>\n",
       "      <td>LP001006</td>\n",
       "      <td>Male</td>\n",
       "      <td>Yes</td>\n",
       "      <td>0</td>\n",
       "      <td>Not Graduate</td>\n",
       "      <td>No</td>\n",
       "      <td>2583</td>\n",
       "      <td>2358.0</td>\n",
       "      <td>120.0</td>\n",
       "      <td>360.0</td>\n",
       "      <td>1.0</td>\n",
       "      <td>Urban</td>\n",
       "      <td>Y</td>\n",
       "    </tr>\n",
       "    <tr>\n",
       "      <th>4</th>\n",
       "      <td>LP001008</td>\n",
       "      <td>Male</td>\n",
       "      <td>No</td>\n",
       "      <td>0</td>\n",
       "      <td>Graduate</td>\n",
       "      <td>No</td>\n",
       "      <td>6000</td>\n",
       "      <td>0.0</td>\n",
       "      <td>141.0</td>\n",
       "      <td>360.0</td>\n",
       "      <td>1.0</td>\n",
       "      <td>Urban</td>\n",
       "      <td>Y</td>\n",
       "    </tr>\n",
       "  </tbody>\n",
       "</table>\n",
       "</div>"
      ],
      "text/plain": [
       "    Loan_ID Gender Married  Dependents     Education Self_Employed  \\\n",
       "0  LP001002   Male      No           0      Graduate            No   \n",
       "1  LP001003   Male     Yes           1      Graduate            No   \n",
       "2  LP001005   Male     Yes           0      Graduate           Yes   \n",
       "3  LP001006   Male     Yes           0  Not Graduate            No   \n",
       "4  LP001008   Male      No           0      Graduate            No   \n",
       "\n",
       "   ApplicantIncome  CoapplicantIncome  LoanAmount  Loan_Amount_Term  \\\n",
       "0             5849                0.0       128.0             360.0   \n",
       "1             4583             1508.0       128.0             360.0   \n",
       "2             3000                0.0        66.0             360.0   \n",
       "3             2583             2358.0       120.0             360.0   \n",
       "4             6000                0.0       141.0             360.0   \n",
       "\n",
       "   Credit_History Property_Area Loan_Status  \n",
       "0             1.0         Urban           Y  \n",
       "1             1.0         Rural           N  \n",
       "2             1.0         Urban           Y  \n",
       "3             1.0         Urban           Y  \n",
       "4             1.0         Urban           Y  "
      ]
     },
     "execution_count": 22,
     "metadata": {},
     "output_type": "execute_result"
    }
   ],
   "source": [
    "depend  = {'1': 1,'0':0,'2':2,'3+':3} \n",
    "df.Dependents = [depend[item] for item in df.Dependents] \n",
    "df.head()"
   ]
  },
  {
   "cell_type": "code",
   "execution_count": 23,
   "id": "quarterly-dynamics",
   "metadata": {
    "execution": {
     "iopub.execute_input": "2021-06-19T20:53:24.086943Z",
     "iopub.status.busy": "2021-06-19T20:53:24.085962Z",
     "iopub.status.idle": "2021-06-19T20:53:24.090552Z",
     "shell.execute_reply": "2021-06-19T20:53:24.090020Z",
     "shell.execute_reply.started": "2021-06-19T20:52:16.791687Z"
    },
    "papermill": {
     "duration": 0.081842,
     "end_time": "2021-06-19T20:53:24.090694",
     "exception": false,
     "start_time": "2021-06-19T20:53:24.008852",
     "status": "completed"
    },
    "tags": []
   },
   "outputs": [
    {
     "data": {
      "text/plain": [
       "0    0\n",
       "dtype: int64"
      ]
     },
     "execution_count": 23,
     "metadata": {},
     "output_type": "execute_result"
    }
   ],
   "source": [
    "df[\"Dependents\"].mode()"
   ]
  },
  {
   "cell_type": "code",
   "execution_count": 24,
   "id": "compact-decrease",
   "metadata": {
    "execution": {
     "iopub.execute_input": "2021-06-19T20:53:24.237430Z",
     "iopub.status.busy": "2021-06-19T20:53:24.236749Z",
     "iopub.status.idle": "2021-06-19T20:53:24.238795Z",
     "shell.execute_reply": "2021-06-19T20:53:24.239290Z",
     "shell.execute_reply.started": "2021-06-19T20:52:16.801743Z"
    },
    "papermill": {
     "duration": 0.0774,
     "end_time": "2021-06-19T20:53:24.239460",
     "exception": false,
     "start_time": "2021-06-19T20:53:24.162060",
     "status": "completed"
    },
    "tags": []
   },
   "outputs": [],
   "source": [
    "#df.dropna(axis=0,inplace=True)\n"
   ]
  },
  {
   "cell_type": "code",
   "execution_count": 25,
   "id": "anticipated-charter",
   "metadata": {
    "execution": {
     "iopub.execute_input": "2021-06-19T20:53:24.384638Z",
     "iopub.status.busy": "2021-06-19T20:53:24.383994Z",
     "iopub.status.idle": "2021-06-19T20:53:24.916964Z",
     "shell.execute_reply": "2021-06-19T20:53:24.917492Z",
     "shell.execute_reply.started": "2021-06-19T20:52:16.811159Z"
    },
    "papermill": {
     "duration": 0.607849,
     "end_time": "2021-06-19T20:53:24.917670",
     "exception": false,
     "start_time": "2021-06-19T20:53:24.309821",
     "status": "completed"
    },
    "tags": []
   },
   "outputs": [
    {
     "data": {
      "text/plain": [
       "<AxesSubplot:>"
      ]
     },
     "execution_count": 25,
     "metadata": {},
     "output_type": "execute_result"
    },
    {
     "data": {
      "image/png": "[encoded data removed]",
      "text/plain": [
       "<Figure size 432x288 with 2 Axes>"
      ]
     },
     "metadata": {
      "needs_background": "light"
     },
     "output_type": "display_data"
    }
   ],
   "source": [
    "sns.heatmap(df.isnull())"
   ]
  },
  {
   "cell_type": "code",
   "execution_count": 26,
   "id": "secret-nylon",
   "metadata": {
    "execution": {
     "iopub.execute_input": "2021-06-19T20:53:25.071861Z",
     "iopub.status.busy": "2021-06-19T20:53:25.071167Z",
     "iopub.status.idle": "2021-06-19T20:53:25.076943Z",
     "shell.execute_reply": "2021-06-19T20:53:25.076268Z",
     "shell.execute_reply.started": "2021-06-19T20:52:17.534015Z"
    },
    "papermill": {
     "duration": 0.084862,
     "end_time": "2021-06-19T20:53:25.077087",
     "exception": false,
     "start_time": "2021-06-19T20:53:24.992225",
     "status": "completed"
    },
    "tags": []
   },
   "outputs": [],
   "source": [
    "df.drop('Loan_ID',inplace=True,axis=1)\n",
    "#df.drop('Dependents',inplace=True,axis=1)\n"
   ]
  },
  {
   "cell_type": "code",
   "execution_count": 27,
   "id": "collaborative-victorian",
   "metadata": {
    "execution": {
     "iopub.execute_input": "2021-06-19T20:53:25.226389Z",
     "iopub.status.busy": "2021-06-19T20:53:25.225615Z",
     "iopub.status.idle": "2021-06-19T20:53:25.246203Z",
     "shell.execute_reply": "2021-06-19T20:53:25.246703Z",
     "shell.execute_reply.started": "2021-06-19T20:52:17.546448Z"
    },
    "papermill": {
     "duration": 0.097182,
     "end_time": "2021-06-19T20:53:25.246932",
     "exception": false,
     "start_time": "2021-06-19T20:53:25.149750",
     "status": "completed"
    },
    "tags": []
   },
   "outputs": [
    {
     "data": {
      "text/html": [
       "<div>\n",
       "<style scoped>\n",
       "    .dataframe tbody tr th:only-of-type {\n",
       "        vertical-align: middle;\n",
       "    }\n",
       "\n",
       "    .dataframe tbody tr th {\n",
       "        vertical-align: top;\n",
       "    }\n",
       "\n",
       "    .dataframe thead th {\n",
       "        text-align: right;\n",
       "    }\n",
       "</style>\n",
       "<table border=\"1\" class=\"dataframe\">\n",
       "  <thead>\n",
       "    <tr style=\"text-align: right;\">\n",
       "      <th></th>\n",
       "      <th>Gender</th>\n",
       "      <th>Married</th>\n",
       "      <th>Dependents</th>\n",
       "      <th>Education</th>\n",
       "      <th>Self_Employed</th>\n",
       "      <th>ApplicantIncome</th>\n",
       "      <th>CoapplicantIncome</th>\n",
       "      <th>LoanAmount</th>\n",
       "      <th>Loan_Amount_Term</th>\n",
       "      <th>Credit_History</th>\n",
       "      <th>Property_Area</th>\n",
       "      <th>Loan_Status</th>\n",
       "    </tr>\n",
       "  </thead>\n",
       "  <tbody>\n",
       "    <tr>\n",
       "      <th>0</th>\n",
       "      <td>Male</td>\n",
       "      <td>No</td>\n",
       "      <td>0</td>\n",
       "      <td>Graduate</td>\n",
       "      <td>No</td>\n",
       "      <td>5849</td>\n",
       "      <td>0.0</td>\n",
       "      <td>128.0</td>\n",
       "      <td>360.0</td>\n",
       "      <td>1.0</td>\n",
       "      <td>Urban</td>\n",
       "      <td>1</td>\n",
       "    </tr>\n",
       "    <tr>\n",
       "      <th>1</th>\n",
       "      <td>Male</td>\n",
       "      <td>Yes</td>\n",
       "      <td>1</td>\n",
       "      <td>Graduate</td>\n",
       "      <td>No</td>\n",
       "      <td>4583</td>\n",
       "      <td>1508.0</td>\n",
       "      <td>128.0</td>\n",
       "      <td>360.0</td>\n",
       "      <td>1.0</td>\n",
       "      <td>Rural</td>\n",
       "      <td>0</td>\n",
       "    </tr>\n",
       "    <tr>\n",
       "      <th>2</th>\n",
       "      <td>Male</td>\n",
       "      <td>Yes</td>\n",
       "      <td>0</td>\n",
       "      <td>Graduate</td>\n",
       "      <td>Yes</td>\n",
       "      <td>3000</td>\n",
       "      <td>0.0</td>\n",
       "      <td>66.0</td>\n",
       "      <td>360.0</td>\n",
       "      <td>1.0</td>\n",
       "      <td>Urban</td>\n",
       "      <td>1</td>\n",
       "    </tr>\n",
       "    <tr>\n",
       "      <th>3</th>\n",
       "      <td>Male</td>\n",
       "      <td>Yes</td>\n",
       "      <td>0</td>\n",
       "      <td>Not Graduate</td>\n",
       "      <td>No</td>\n",
       "      <td>2583</td>\n",
       "      <td>2358.0</td>\n",
       "      <td>120.0</td>\n",
       "      <td>360.0</td>\n",
       "      <td>1.0</td>\n",
       "      <td>Urban</td>\n",
       "      <td>1</td>\n",
       "    </tr>\n",
       "    <tr>\n",
       "      <th>4</th>\n",
       "      <td>Male</td>\n",
       "      <td>No</td>\n",
       "      <td>0</td>\n",
       "      <td>Graduate</td>\n",
       "      <td>No</td>\n",
       "      <td>6000</td>\n",
       "      <td>0.0</td>\n",
       "      <td>141.0</td>\n",
       "      <td>360.0</td>\n",
       "      <td>1.0</td>\n",
       "      <td>Urban</td>\n",
       "      <td>1</td>\n",
       "    </tr>\n",
       "  </tbody>\n",
       "</table>\n",
       "</div>"
      ],
      "text/plain": [
       "  Gender Married  Dependents     Education Self_Employed  ApplicantIncome  \\\n",
       "0   Male      No           0      Graduate            No             5849   \n",
       "1   Male     Yes           1      Graduate            No             4583   \n",
       "2   Male     Yes           0      Graduate           Yes             3000   \n",
       "3   Male     Yes           0  Not Graduate            No             2583   \n",
       "4   Male      No           0      Graduate            No             6000   \n",
       "\n",
       "   CoapplicantIncome  LoanAmount  Loan_Amount_Term  Credit_History  \\\n",
       "0                0.0       128.0             360.0             1.0   \n",
       "1             1508.0       128.0             360.0             1.0   \n",
       "2                0.0        66.0             360.0             1.0   \n",
       "3             2358.0       120.0             360.0             1.0   \n",
       "4                0.0       141.0             360.0             1.0   \n",
       "\n",
       "  Property_Area  Loan_Status  \n",
       "0         Urban            1  \n",
       "1         Rural            0  \n",
       "2         Urban            1  \n",
       "3         Urban            1  \n",
       "4         Urban            1  "
      ]
     },
     "execution_count": 27,
     "metadata": {},
     "output_type": "execute_result"
    }
   ],
   "source": [
    "approval  = {'Y': 1,'N':0} \n",
    "df.Loan_Status = [approval[item] for item in df.Loan_Status] \n",
    "df.head()"
   ]
  },
  {
   "cell_type": "code",
   "execution_count": 28,
   "id": "seventh-dallas",
   "metadata": {
    "execution": {
     "iopub.execute_input": "2021-06-19T20:53:25.397041Z",
     "iopub.status.busy": "2021-06-19T20:53:25.396237Z",
     "iopub.status.idle": "2021-06-19T20:53:25.417565Z",
     "shell.execute_reply": "2021-06-19T20:53:25.418105Z",
     "shell.execute_reply.started": "2021-06-19T20:52:17.576625Z"
    },
    "papermill": {
     "duration": 0.098618,
     "end_time": "2021-06-19T20:53:25.418299",
     "exception": false,
     "start_time": "2021-06-19T20:53:25.319681",
     "status": "completed"
    },
    "tags": []
   },
   "outputs": [
    {
     "data": {
      "text/html": [
       "<div>\n",
       "<style scoped>\n",
       "    .dataframe tbody tr th:only-of-type {\n",
       "        vertical-align: middle;\n",
       "    }\n",
       "\n",
       "    .dataframe tbody tr th {\n",
       "        vertical-align: top;\n",
       "    }\n",
       "\n",
       "    .dataframe thead th {\n",
       "        text-align: right;\n",
       "    }\n",
       "</style>\n",
       "<table border=\"1\" class=\"dataframe\">\n",
       "  <thead>\n",
       "    <tr style=\"text-align: right;\">\n",
       "      <th></th>\n",
       "      <th>Gender</th>\n",
       "      <th>Married</th>\n",
       "      <th>Dependents</th>\n",
       "      <th>Education</th>\n",
       "      <th>Self_Employed</th>\n",
       "      <th>ApplicantIncome</th>\n",
       "      <th>CoapplicantIncome</th>\n",
       "      <th>LoanAmount</th>\n",
       "      <th>Loan_Amount_Term</th>\n",
       "      <th>Credit_History</th>\n",
       "      <th>Property_Area</th>\n",
       "      <th>Loan_Status</th>\n",
       "    </tr>\n",
       "  </thead>\n",
       "  <tbody>\n",
       "    <tr>\n",
       "      <th>0</th>\n",
       "      <td>0</td>\n",
       "      <td>No</td>\n",
       "      <td>0</td>\n",
       "      <td>Graduate</td>\n",
       "      <td>No</td>\n",
       "      <td>5849</td>\n",
       "      <td>0.0</td>\n",
       "      <td>128.0</td>\n",
       "      <td>360.0</td>\n",
       "      <td>1.0</td>\n",
       "      <td>Urban</td>\n",
       "      <td>1</td>\n",
       "    </tr>\n",
       "    <tr>\n",
       "      <th>1</th>\n",
       "      <td>0</td>\n",
       "      <td>Yes</td>\n",
       "      <td>1</td>\n",
       "      <td>Graduate</td>\n",
       "      <td>No</td>\n",
       "      <td>4583</td>\n",
       "      <td>1508.0</td>\n",
       "      <td>128.0</td>\n",
       "      <td>360.0</td>\n",
       "      <td>1.0</td>\n",
       "      <td>Rural</td>\n",
       "      <td>0</td>\n",
       "    </tr>\n",
       "    <tr>\n",
       "      <th>2</th>\n",
       "      <td>0</td>\n",
       "      <td>Yes</td>\n",
       "      <td>0</td>\n",
       "      <td>Graduate</td>\n",
       "      <td>Yes</td>\n",
       "      <td>3000</td>\n",
       "      <td>0.0</td>\n",
       "      <td>66.0</td>\n",
       "      <td>360.0</td>\n",
       "      <td>1.0</td>\n",
       "      <td>Urban</td>\n",
       "      <td>1</td>\n",
       "    </tr>\n",
       "    <tr>\n",
       "      <th>3</th>\n",
       "      <td>0</td>\n",
       "      <td>Yes</td>\n",
       "      <td>0</td>\n",
       "      <td>Not Graduate</td>\n",
       "      <td>No</td>\n",
       "      <td>2583</td>\n",
       "      <td>2358.0</td>\n",
       "      <td>120.0</td>\n",
       "      <td>360.0</td>\n",
       "      <td>1.0</td>\n",
       "      <td>Urban</td>\n",
       "      <td>1</td>\n",
       "    </tr>\n",
       "    <tr>\n",
       "      <th>4</th>\n",
       "      <td>0</td>\n",
       "      <td>No</td>\n",
       "      <td>0</td>\n",
       "      <td>Graduate</td>\n",
       "      <td>No</td>\n",
       "      <td>6000</td>\n",
       "      <td>0.0</td>\n",
       "      <td>141.0</td>\n",
       "      <td>360.0</td>\n",
       "      <td>1.0</td>\n",
       "      <td>Urban</td>\n",
       "      <td>1</td>\n",
       "    </tr>\n",
       "  </tbody>\n",
       "</table>\n",
       "</div>"
      ],
      "text/plain": [
       "   Gender Married  Dependents     Education Self_Employed  ApplicantIncome  \\\n",
       "0       0      No           0      Graduate            No             5849   \n",
       "1       0     Yes           1      Graduate            No             4583   \n",
       "2       0     Yes           0      Graduate           Yes             3000   \n",
       "3       0     Yes           0  Not Graduate            No             2583   \n",
       "4       0      No           0      Graduate            No             6000   \n",
       "\n",
       "   CoapplicantIncome  LoanAmount  Loan_Amount_Term  Credit_History  \\\n",
       "0                0.0       128.0             360.0             1.0   \n",
       "1             1508.0       128.0             360.0             1.0   \n",
       "2                0.0        66.0             360.0             1.0   \n",
       "3             2358.0       120.0             360.0             1.0   \n",
       "4                0.0       141.0             360.0             1.0   \n",
       "\n",
       "  Property_Area  Loan_Status  \n",
       "0         Urban            1  \n",
       "1         Rural            0  \n",
       "2         Urban            1  \n",
       "3         Urban            1  \n",
       "4         Urban            1  "
      ]
     },
     "execution_count": 28,
     "metadata": {},
     "output_type": "execute_result"
    }
   ],
   "source": [
    "gender  = {'Female': 1,'Male':0} \n",
    "df.Gender = [gender[item] for item in df.Gender] \n",
    "df.head()"
   ]
  },
  {
   "cell_type": "code",
   "execution_count": 29,
   "id": "another-hamburg",
   "metadata": {
    "execution": {
     "iopub.execute_input": "2021-06-19T20:53:25.570356Z",
     "iopub.status.busy": "2021-06-19T20:53:25.569537Z",
     "iopub.status.idle": "2021-06-19T20:53:25.590009Z",
     "shell.execute_reply": "2021-06-19T20:53:25.590479Z",
     "shell.execute_reply.started": "2021-06-19T20:52:17.602329Z"
    },
    "papermill": {
     "duration": 0.097234,
     "end_time": "2021-06-19T20:53:25.590664",
     "exception": false,
     "start_time": "2021-06-19T20:53:25.493430",
     "status": "completed"
    },
    "tags": []
   },
   "outputs": [
    {
     "data": {
      "text/html": [
       "<div>\n",
       "<style scoped>\n",
       "    .dataframe tbody tr th:only-of-type {\n",
       "        vertical-align: middle;\n",
       "    }\n",
       "\n",
       "    .dataframe tbody tr th {\n",
       "        vertical-align: top;\n",
       "    }\n",
       "\n",
       "    .dataframe thead th {\n",
       "        text-align: right;\n",
       "    }\n",
       "</style>\n",
       "<table border=\"1\" class=\"dataframe\">\n",
       "  <thead>\n",
       "    <tr style=\"text-align: right;\">\n",
       "      <th></th>\n",
       "      <th>Gender</th>\n",
       "      <th>Married</th>\n",
       "      <th>Dependents</th>\n",
       "      <th>Education</th>\n",
       "      <th>Self_Employed</th>\n",
       "      <th>ApplicantIncome</th>\n",
       "      <th>CoapplicantIncome</th>\n",
       "      <th>LoanAmount</th>\n",
       "      <th>Loan_Amount_Term</th>\n",
       "      <th>Credit_History</th>\n",
       "      <th>Property_Area</th>\n",
       "      <th>Loan_Status</th>\n",
       "    </tr>\n",
       "  </thead>\n",
       "  <tbody>\n",
       "    <tr>\n",
       "      <th>0</th>\n",
       "      <td>0</td>\n",
       "      <td>0</td>\n",
       "      <td>0</td>\n",
       "      <td>Graduate</td>\n",
       "      <td>No</td>\n",
       "      <td>5849</td>\n",
       "      <td>0.0</td>\n",
       "      <td>128.0</td>\n",
       "      <td>360.0</td>\n",
       "      <td>1.0</td>\n",
       "      <td>Urban</td>\n",
       "      <td>1</td>\n",
       "    </tr>\n",
       "    <tr>\n",
       "      <th>1</th>\n",
       "      <td>0</td>\n",
       "      <td>1</td>\n",
       "      <td>1</td>\n",
       "      <td>Graduate</td>\n",
       "      <td>No</td>\n",
       "      <td>4583</td>\n",
       "      <td>1508.0</td>\n",
       "      <td>128.0</td>\n",
       "      <td>360.0</td>\n",
       "      <td>1.0</td>\n",
       "      <td>Rural</td>\n",
       "      <td>0</td>\n",
       "    </tr>\n",
       "    <tr>\n",
       "      <th>2</th>\n",
       "      <td>0</td>\n",
       "      <td>1</td>\n",
       "      <td>0</td>\n",
       "      <td>Graduate</td>\n",
       "      <td>Yes</td>\n",
       "      <td>3000</td>\n",
       "      <td>0.0</td>\n",
       "      <td>66.0</td>\n",
       "      <td>360.0</td>\n",
       "      <td>1.0</td>\n",
       "      <td>Urban</td>\n",
       "      <td>1</td>\n",
       "    </tr>\n",
       "    <tr>\n",
       "      <th>3</th>\n",
       "      <td>0</td>\n",
       "      <td>1</td>\n",
       "      <td>0</td>\n",
       "      <td>Not Graduate</td>\n",
       "      <td>No</td>\n",
       "      <td>2583</td>\n",
       "      <td>2358.0</td>\n",
       "      <td>120.0</td>\n",
       "      <td>360.0</td>\n",
       "      <td>1.0</td>\n",
       "      <td>Urban</td>\n",
       "      <td>1</td>\n",
       "    </tr>\n",
       "    <tr>\n",
       "      <th>4</th>\n",
       "      <td>0</td>\n",
       "      <td>0</td>\n",
       "      <td>0</td>\n",
       "      <td>Graduate</td>\n",
       "      <td>No</td>\n",
       "      <td>6000</td>\n",
       "      <td>0.0</td>\n",
       "      <td>141.0</td>\n",
       "      <td>360.0</td>\n",
       "      <td>1.0</td>\n",
       "      <td>Urban</td>\n",
       "      <td>1</td>\n",
       "    </tr>\n",
       "  </tbody>\n",
       "</table>\n",
       "</div>"
      ],
      "text/plain": [
       "   Gender  Married  Dependents     Education Self_Employed  ApplicantIncome  \\\n",
       "0       0        0           0      Graduate            No             5849   \n",
       "1       0        1           1      Graduate            No             4583   \n",
       "2       0        1           0      Graduate           Yes             3000   \n",
       "3       0        1           0  Not Graduate            No             2583   \n",
       "4       0        0           0      Graduate            No             6000   \n",
       "\n",
       "   CoapplicantIncome  LoanAmount  Loan_Amount_Term  Credit_History  \\\n",
       "0                0.0       128.0             360.0             1.0   \n",
       "1             1508.0       128.0             360.0             1.0   \n",
       "2                0.0        66.0             360.0             1.0   \n",
       "3             2358.0       120.0             360.0             1.0   \n",
       "4                0.0       141.0             360.0             1.0   \n",
       "\n",
       "  Property_Area  Loan_Status  \n",
       "0         Urban            1  \n",
       "1         Rural            0  \n",
       "2         Urban            1  \n",
       "3         Urban            1  \n",
       "4         Urban            1  "
      ]
     },
     "execution_count": 29,
     "metadata": {},
     "output_type": "execute_result"
    }
   ],
   "source": [
    "married  = {'Yes': 1,'No':0} \n",
    "df.Married = [married[item] for item in df.Married] \n",
    "df.head()"
   ]
  },
  {
   "cell_type": "code",
   "execution_count": 30,
   "id": "immune-renewal",
   "metadata": {
    "execution": {
     "iopub.execute_input": "2021-06-19T20:53:25.741357Z",
     "iopub.status.busy": "2021-06-19T20:53:25.740533Z",
     "iopub.status.idle": "2021-06-19T20:53:25.759687Z",
     "shell.execute_reply": "2021-06-19T20:53:25.760190Z",
     "shell.execute_reply.started": "2021-06-19T20:52:17.628321Z"
    },
    "papermill": {
     "duration": 0.096089,
     "end_time": "2021-06-19T20:53:25.760369",
     "exception": false,
     "start_time": "2021-06-19T20:53:25.664280",
     "status": "completed"
    },
    "tags": []
   },
   "outputs": [
    {
     "data": {
      "text/html": [
       "<div>\n",
       "<style scoped>\n",
       "    .dataframe tbody tr th:only-of-type {\n",
       "        vertical-align: middle;\n",
       "    }\n",
       "\n",
       "    .dataframe tbody tr th {\n",
       "        vertical-align: top;\n",
       "    }\n",
       "\n",
       "    .dataframe thead th {\n",
       "        text-align: right;\n",
       "    }\n",
       "</style>\n",
       "<table border=\"1\" class=\"dataframe\">\n",
       "  <thead>\n",
       "    <tr style=\"text-align: right;\">\n",
       "      <th></th>\n",
       "      <th>Gender</th>\n",
       "      <th>Married</th>\n",
       "      <th>Dependents</th>\n",
       "      <th>Education</th>\n",
       "      <th>Self_Employed</th>\n",
       "      <th>ApplicantIncome</th>\n",
       "      <th>CoapplicantIncome</th>\n",
       "      <th>LoanAmount</th>\n",
       "      <th>Loan_Amount_Term</th>\n",
       "      <th>Credit_History</th>\n",
       "      <th>Property_Area</th>\n",
       "      <th>Loan_Status</th>\n",
       "    </tr>\n",
       "  </thead>\n",
       "  <tbody>\n",
       "    <tr>\n",
       "      <th>0</th>\n",
       "      <td>0</td>\n",
       "      <td>0</td>\n",
       "      <td>0</td>\n",
       "      <td>1</td>\n",
       "      <td>No</td>\n",
       "      <td>5849</td>\n",
       "      <td>0.0</td>\n",
       "      <td>128.0</td>\n",
       "      <td>360.0</td>\n",
       "      <td>1.0</td>\n",
       "      <td>Urban</td>\n",
       "      <td>1</td>\n",
       "    </tr>\n",
       "    <tr>\n",
       "      <th>1</th>\n",
       "      <td>0</td>\n",
       "      <td>1</td>\n",
       "      <td>1</td>\n",
       "      <td>1</td>\n",
       "      <td>No</td>\n",
       "      <td>4583</td>\n",
       "      <td>1508.0</td>\n",
       "      <td>128.0</td>\n",
       "      <td>360.0</td>\n",
       "      <td>1.0</td>\n",
       "      <td>Rural</td>\n",
       "      <td>0</td>\n",
       "    </tr>\n",
       "    <tr>\n",
       "      <th>2</th>\n",
       "      <td>0</td>\n",
       "      <td>1</td>\n",
       "      <td>0</td>\n",
       "      <td>1</td>\n",
       "      <td>Yes</td>\n",
       "      <td>3000</td>\n",
       "      <td>0.0</td>\n",
       "      <td>66.0</td>\n",
       "      <td>360.0</td>\n",
       "      <td>1.0</td>\n",
       "      <td>Urban</td>\n",
       "      <td>1</td>\n",
       "    </tr>\n",
       "    <tr>\n",
       "      <th>3</th>\n",
       "      <td>0</td>\n",
       "      <td>1</td>\n",
       "      <td>0</td>\n",
       "      <td>0</td>\n",
       "      <td>No</td>\n",
       "      <td>2583</td>\n",
       "      <td>2358.0</td>\n",
       "      <td>120.0</td>\n",
       "      <td>360.0</td>\n",
       "      <td>1.0</td>\n",
       "      <td>Urban</td>\n",
       "      <td>1</td>\n",
       "    </tr>\n",
       "    <tr>\n",
       "      <th>4</th>\n",
       "      <td>0</td>\n",
       "      <td>0</td>\n",
       "      <td>0</td>\n",
       "      <td>1</td>\n",
       "      <td>No</td>\n",
       "      <td>6000</td>\n",
       "      <td>0.0</td>\n",
       "      <td>141.0</td>\n",
       "      <td>360.0</td>\n",
       "      <td>1.0</td>\n",
       "      <td>Urban</td>\n",
       "      <td>1</td>\n",
       "    </tr>\n",
       "  </tbody>\n",
       "</table>\n",
       "</div>"
      ],
      "text/plain": [
       "   Gender  Married  Dependents  Education Self_Employed  ApplicantIncome  \\\n",
       "0       0        0           0          1            No             5849   \n",
       "1       0        1           1          1            No             4583   \n",
       "2       0        1           0          1           Yes             3000   \n",
       "3       0        1           0          0            No             2583   \n",
       "4       0        0           0          1            No             6000   \n",
       "\n",
       "   CoapplicantIncome  LoanAmount  Loan_Amount_Term  Credit_History  \\\n",
       "0                0.0       128.0             360.0             1.0   \n",
       "1             1508.0       128.0             360.0             1.0   \n",
       "2                0.0        66.0             360.0             1.0   \n",
       "3             2358.0       120.0             360.0             1.0   \n",
       "4                0.0       141.0             360.0             1.0   \n",
       "\n",
       "  Property_Area  Loan_Status  \n",
       "0         Urban            1  \n",
       "1         Rural            0  \n",
       "2         Urban            1  \n",
       "3         Urban            1  \n",
       "4         Urban            1  "
      ]
     },
     "execution_count": 30,
     "metadata": {},
     "output_type": "execute_result"
    }
   ],
   "source": [
    "education = {'Graduate': 1,'Not Graduate':0} \n",
    "df.Education = [education[item] for item in df.Education] \n",
    "df.head()"
   ]
  },
  {
   "cell_type": "code",
   "execution_count": 31,
   "id": "extra-publisher",
   "metadata": {
    "execution": {
     "iopub.execute_input": "2021-06-19T20:53:25.912711Z",
     "iopub.status.busy": "2021-06-19T20:53:25.912049Z",
     "iopub.status.idle": "2021-06-19T20:53:25.932013Z",
     "shell.execute_reply": "2021-06-19T20:53:25.931310Z",
     "shell.execute_reply.started": "2021-06-19T20:52:17.655946Z"
    },
    "papermill": {
     "duration": 0.097202,
     "end_time": "2021-06-19T20:53:25.932157",
     "exception": false,
     "start_time": "2021-06-19T20:53:25.834955",
     "status": "completed"
    },
    "tags": []
   },
   "outputs": [
    {
     "data": {
      "text/html": [
       "<div>\n",
       "<style scoped>\n",
       "    .dataframe tbody tr th:only-of-type {\n",
       "        vertical-align: middle;\n",
       "    }\n",
       "\n",
       "    .dataframe tbody tr th {\n",
       "        vertical-align: top;\n",
       "    }\n",
       "\n",
       "    .dataframe thead th {\n",
       "        text-align: right;\n",
       "    }\n",
       "</style>\n",
       "<table border=\"1\" class=\"dataframe\">\n",
       "  <thead>\n",
       "    <tr style=\"text-align: right;\">\n",
       "      <th></th>\n",
       "      <th>Gender</th>\n",
       "      <th>Married</th>\n",
       "      <th>Dependents</th>\n",
       "      <th>Education</th>\n",
       "      <th>Self_Employed</th>\n",
       "      <th>ApplicantIncome</th>\n",
       "      <th>CoapplicantIncome</th>\n",
       "      <th>LoanAmount</th>\n",
       "      <th>Loan_Amount_Term</th>\n",
       "      <th>Credit_History</th>\n",
       "      <th>Property_Area</th>\n",
       "      <th>Loan_Status</th>\n",
       "    </tr>\n",
       "  </thead>\n",
       "  <tbody>\n",
       "    <tr>\n",
       "      <th>0</th>\n",
       "      <td>0</td>\n",
       "      <td>0</td>\n",
       "      <td>0</td>\n",
       "      <td>1</td>\n",
       "      <td>No</td>\n",
       "      <td>5849</td>\n",
       "      <td>0.0</td>\n",
       "      <td>128.0</td>\n",
       "      <td>360.0</td>\n",
       "      <td>1.0</td>\n",
       "      <td>2</td>\n",
       "      <td>1</td>\n",
       "    </tr>\n",
       "    <tr>\n",
       "      <th>1</th>\n",
       "      <td>0</td>\n",
       "      <td>1</td>\n",
       "      <td>1</td>\n",
       "      <td>1</td>\n",
       "      <td>No</td>\n",
       "      <td>4583</td>\n",
       "      <td>1508.0</td>\n",
       "      <td>128.0</td>\n",
       "      <td>360.0</td>\n",
       "      <td>1.0</td>\n",
       "      <td>0</td>\n",
       "      <td>0</td>\n",
       "    </tr>\n",
       "    <tr>\n",
       "      <th>2</th>\n",
       "      <td>0</td>\n",
       "      <td>1</td>\n",
       "      <td>0</td>\n",
       "      <td>1</td>\n",
       "      <td>Yes</td>\n",
       "      <td>3000</td>\n",
       "      <td>0.0</td>\n",
       "      <td>66.0</td>\n",
       "      <td>360.0</td>\n",
       "      <td>1.0</td>\n",
       "      <td>2</td>\n",
       "      <td>1</td>\n",
       "    </tr>\n",
       "    <tr>\n",
       "      <th>3</th>\n",
       "      <td>0</td>\n",
       "      <td>1</td>\n",
       "      <td>0</td>\n",
       "      <td>0</td>\n",
       "      <td>No</td>\n",
       "      <td>2583</td>\n",
       "      <td>2358.0</td>\n",
       "      <td>120.0</td>\n",
       "      <td>360.0</td>\n",
       "      <td>1.0</td>\n",
       "      <td>2</td>\n",
       "      <td>1</td>\n",
       "    </tr>\n",
       "    <tr>\n",
       "      <th>4</th>\n",
       "      <td>0</td>\n",
       "      <td>0</td>\n",
       "      <td>0</td>\n",
       "      <td>1</td>\n",
       "      <td>No</td>\n",
       "      <td>6000</td>\n",
       "      <td>0.0</td>\n",
       "      <td>141.0</td>\n",
       "      <td>360.0</td>\n",
       "      <td>1.0</td>\n",
       "      <td>2</td>\n",
       "      <td>1</td>\n",
       "    </tr>\n",
       "  </tbody>\n",
       "</table>\n",
       "</div>"
      ],
      "text/plain": [
       "   Gender  Married  Dependents  Education Self_Employed  ApplicantIncome  \\\n",
       "0       0        0           0          1            No             5849   \n",
       "1       0        1           1          1            No             4583   \n",
       "2       0        1           0          1           Yes             3000   \n",
       "3       0        1           0          0            No             2583   \n",
       "4       0        0           0          1            No             6000   \n",
       "\n",
       "   CoapplicantIncome  LoanAmount  Loan_Amount_Term  Credit_History  \\\n",
       "0                0.0       128.0             360.0             1.0   \n",
       "1             1508.0       128.0             360.0             1.0   \n",
       "2                0.0        66.0             360.0             1.0   \n",
       "3             2358.0       120.0             360.0             1.0   \n",
       "4                0.0       141.0             360.0             1.0   \n",
       "\n",
       "   Property_Area  Loan_Status  \n",
       "0              2            1  \n",
       "1              0            0  \n",
       "2              2            1  \n",
       "3              2            1  \n",
       "4              2            1  "
      ]
     },
     "execution_count": 31,
     "metadata": {},
     "output_type": "execute_result"
    }
   ],
   "source": [
    "prop = {'Rural': 0,'Urban':2,'Semiurban':1} \n",
    "df.Property_Area = [prop[item] for item in df.Property_Area] \n",
    "df.head()"
   ]
  },
  {
   "cell_type": "code",
   "execution_count": 32,
   "id": "catholic-strengthening",
   "metadata": {
    "execution": {
     "iopub.execute_input": "2021-06-19T20:53:26.097012Z",
     "iopub.status.busy": "2021-06-19T20:53:26.091604Z",
     "iopub.status.idle": "2021-06-19T20:53:26.110071Z",
     "shell.execute_reply": "2021-06-19T20:53:26.109366Z",
     "shell.execute_reply.started": "2021-06-19T20:52:17.685732Z"
    },
    "papermill": {
     "duration": 0.103033,
     "end_time": "2021-06-19T20:53:26.110229",
     "exception": false,
     "start_time": "2021-06-19T20:53:26.007196",
     "status": "completed"
    },
    "tags": []
   },
   "outputs": [
    {
     "data": {
      "text/html": [
       "<div>\n",
       "<style scoped>\n",
       "    .dataframe tbody tr th:only-of-type {\n",
       "        vertical-align: middle;\n",
       "    }\n",
       "\n",
       "    .dataframe tbody tr th {\n",
       "        vertical-align: top;\n",
       "    }\n",
       "\n",
       "    .dataframe thead th {\n",
       "        text-align: right;\n",
       "    }\n",
       "</style>\n",
       "<table border=\"1\" class=\"dataframe\">\n",
       "  <thead>\n",
       "    <tr style=\"text-align: right;\">\n",
       "      <th></th>\n",
       "      <th>Gender</th>\n",
       "      <th>Married</th>\n",
       "      <th>Dependents</th>\n",
       "      <th>Education</th>\n",
       "      <th>Self_Employed</th>\n",
       "      <th>ApplicantIncome</th>\n",
       "      <th>CoapplicantIncome</th>\n",
       "      <th>LoanAmount</th>\n",
       "      <th>Loan_Amount_Term</th>\n",
       "      <th>Credit_History</th>\n",
       "      <th>Property_Area</th>\n",
       "      <th>Loan_Status</th>\n",
       "    </tr>\n",
       "  </thead>\n",
       "  <tbody>\n",
       "    <tr>\n",
       "      <th>0</th>\n",
       "      <td>0</td>\n",
       "      <td>0</td>\n",
       "      <td>0</td>\n",
       "      <td>1</td>\n",
       "      <td>0</td>\n",
       "      <td>5849</td>\n",
       "      <td>0.0</td>\n",
       "      <td>128.0</td>\n",
       "      <td>360.0</td>\n",
       "      <td>1.0</td>\n",
       "      <td>2</td>\n",
       "      <td>1</td>\n",
       "    </tr>\n",
       "    <tr>\n",
       "      <th>1</th>\n",
       "      <td>0</td>\n",
       "      <td>1</td>\n",
       "      <td>1</td>\n",
       "      <td>1</td>\n",
       "      <td>0</td>\n",
       "      <td>4583</td>\n",
       "      <td>1508.0</td>\n",
       "      <td>128.0</td>\n",
       "      <td>360.0</td>\n",
       "      <td>1.0</td>\n",
       "      <td>0</td>\n",
       "      <td>0</td>\n",
       "    </tr>\n",
       "    <tr>\n",
       "      <th>2</th>\n",
       "      <td>0</td>\n",
       "      <td>1</td>\n",
       "      <td>0</td>\n",
       "      <td>1</td>\n",
       "      <td>1</td>\n",
       "      <td>3000</td>\n",
       "      <td>0.0</td>\n",
       "      <td>66.0</td>\n",
       "      <td>360.0</td>\n",
       "      <td>1.0</td>\n",
       "      <td>2</td>\n",
       "      <td>1</td>\n",
       "    </tr>\n",
       "    <tr>\n",
       "      <th>3</th>\n",
       "      <td>0</td>\n",
       "      <td>1</td>\n",
       "      <td>0</td>\n",
       "      <td>0</td>\n",
       "      <td>0</td>\n",
       "      <td>2583</td>\n",
       "      <td>2358.0</td>\n",
       "      <td>120.0</td>\n",
       "      <td>360.0</td>\n",
       "      <td>1.0</td>\n",
       "      <td>2</td>\n",
       "      <td>1</td>\n",
       "    </tr>\n",
       "    <tr>\n",
       "      <th>4</th>\n",
       "      <td>0</td>\n",
       "      <td>0</td>\n",
       "      <td>0</td>\n",
       "      <td>1</td>\n",
       "      <td>0</td>\n",
       "      <td>6000</td>\n",
       "      <td>0.0</td>\n",
       "      <td>141.0</td>\n",
       "      <td>360.0</td>\n",
       "      <td>1.0</td>\n",
       "      <td>2</td>\n",
       "      <td>1</td>\n",
       "    </tr>\n",
       "  </tbody>\n",
       "</table>\n",
       "</div>"
      ],
      "text/plain": [
       "   Gender  Married  Dependents  Education  Self_Employed  ApplicantIncome  \\\n",
       "0       0        0           0          1              0             5849   \n",
       "1       0        1           1          1              0             4583   \n",
       "2       0        1           0          1              1             3000   \n",
       "3       0        1           0          0              0             2583   \n",
       "4       0        0           0          1              0             6000   \n",
       "\n",
       "   CoapplicantIncome  LoanAmount  Loan_Amount_Term  Credit_History  \\\n",
       "0                0.0       128.0             360.0             1.0   \n",
       "1             1508.0       128.0             360.0             1.0   \n",
       "2                0.0        66.0             360.0             1.0   \n",
       "3             2358.0       120.0             360.0             1.0   \n",
       "4                0.0       141.0             360.0             1.0   \n",
       "\n",
       "   Property_Area  Loan_Status  \n",
       "0              2            1  \n",
       "1              0            0  \n",
       "2              2            1  \n",
       "3              2            1  \n",
       "4              2            1  "
      ]
     },
     "execution_count": 32,
     "metadata": {},
     "output_type": "execute_result"
    }
   ],
   "source": [
    "selfemp = {'Yes': 1,'No':0} \n",
    "df.Self_Employed = [selfemp[item] for item in df.Self_Employed] \n",
    "df.head()"
   ]
  },
  {
   "cell_type": "code",
   "execution_count": 33,
   "id": "twenty-orbit",
   "metadata": {
    "execution": {
     "iopub.execute_input": "2021-06-19T20:53:26.267066Z",
     "iopub.status.busy": "2021-06-19T20:53:26.266321Z",
     "iopub.status.idle": "2021-06-19T20:53:26.269961Z",
     "shell.execute_reply": "2021-06-19T20:53:26.269385Z",
     "shell.execute_reply.started": "2021-06-19T20:52:17.712689Z"
    },
    "papermill": {
     "duration": 0.084689,
     "end_time": "2021-06-19T20:53:26.270108",
     "exception": false,
     "start_time": "2021-06-19T20:53:26.185419",
     "status": "completed"
    },
    "tags": []
   },
   "outputs": [],
   "source": [
    "fea_normalize=['Dependents','ApplicantIncome','CoapplicantIncome','LoanAmount','Loan_Amount_Term','Property_Area']"
   ]
  },
  {
   "cell_type": "code",
   "execution_count": 34,
   "id": "finite-maximum",
   "metadata": {
    "execution": {
     "iopub.execute_input": "2021-06-19T20:53:26.426717Z",
     "iopub.status.busy": "2021-06-19T20:53:26.426068Z",
     "iopub.status.idle": "2021-06-19T20:53:26.447219Z",
     "shell.execute_reply": "2021-06-19T20:53:26.446635Z",
     "shell.execute_reply.started": "2021-06-19T20:52:17.723091Z"
    },
    "papermill": {
     "duration": 0.102008,
     "end_time": "2021-06-19T20:53:26.447372",
     "exception": false,
     "start_time": "2021-06-19T20:53:26.345364",
     "status": "completed"
    },
    "tags": []
   },
   "outputs": [],
   "source": [
    "for fea in fea_normalize:\n",
    "    df[fea]=(df[fea])/(df[fea].max())"
   ]
  },
  {
   "cell_type": "code",
   "execution_count": 35,
   "id": "northern-booking",
   "metadata": {
    "execution": {
     "iopub.execute_input": "2021-06-19T20:53:26.617691Z",
     "iopub.status.busy": "2021-06-19T20:53:26.616821Z",
     "iopub.status.idle": "2021-06-19T20:53:26.620242Z",
     "shell.execute_reply": "2021-06-19T20:53:26.620701Z",
     "shell.execute_reply.started": "2021-06-19T20:52:17.741300Z"
    },
    "papermill": {
     "duration": 0.097085,
     "end_time": "2021-06-19T20:53:26.620898",
     "exception": false,
     "start_time": "2021-06-19T20:53:26.523813",
     "status": "completed"
    },
    "tags": []
   },
   "outputs": [
    {
     "data": {
      "text/html": [
       "<div>\n",
       "<style scoped>\n",
       "    .dataframe tbody tr th:only-of-type {\n",
       "        vertical-align: middle;\n",
       "    }\n",
       "\n",
       "    .dataframe tbody tr th {\n",
       "        vertical-align: top;\n",
       "    }\n",
       "\n",
       "    .dataframe thead th {\n",
       "        text-align: right;\n",
       "    }\n",
       "</style>\n",
       "<table border=\"1\" class=\"dataframe\">\n",
       "  <thead>\n",
       "    <tr style=\"text-align: right;\">\n",
       "      <th></th>\n",
       "      <th>Gender</th>\n",
       "      <th>Married</th>\n",
       "      <th>Dependents</th>\n",
       "      <th>Education</th>\n",
       "      <th>Self_Employed</th>\n",
       "      <th>ApplicantIncome</th>\n",
       "      <th>CoapplicantIncome</th>\n",
       "      <th>LoanAmount</th>\n",
       "      <th>Loan_Amount_Term</th>\n",
       "      <th>Credit_History</th>\n",
       "      <th>Property_Area</th>\n",
       "      <th>Loan_Status</th>\n",
       "    </tr>\n",
       "  </thead>\n",
       "  <tbody>\n",
       "    <tr>\n",
       "      <th>0</th>\n",
       "      <td>0</td>\n",
       "      <td>0</td>\n",
       "      <td>0.000000</td>\n",
       "      <td>1</td>\n",
       "      <td>0</td>\n",
       "      <td>0.072210</td>\n",
       "      <td>0.000000</td>\n",
       "      <td>0.182857</td>\n",
       "      <td>0.75</td>\n",
       "      <td>1.0</td>\n",
       "      <td>1.0</td>\n",
       "      <td>1</td>\n",
       "    </tr>\n",
       "    <tr>\n",
       "      <th>1</th>\n",
       "      <td>0</td>\n",
       "      <td>1</td>\n",
       "      <td>0.333333</td>\n",
       "      <td>1</td>\n",
       "      <td>0</td>\n",
       "      <td>0.056580</td>\n",
       "      <td>0.036192</td>\n",
       "      <td>0.182857</td>\n",
       "      <td>0.75</td>\n",
       "      <td>1.0</td>\n",
       "      <td>0.0</td>\n",
       "      <td>0</td>\n",
       "    </tr>\n",
       "    <tr>\n",
       "      <th>2</th>\n",
       "      <td>0</td>\n",
       "      <td>1</td>\n",
       "      <td>0.000000</td>\n",
       "      <td>1</td>\n",
       "      <td>1</td>\n",
       "      <td>0.037037</td>\n",
       "      <td>0.000000</td>\n",
       "      <td>0.094286</td>\n",
       "      <td>0.75</td>\n",
       "      <td>1.0</td>\n",
       "      <td>1.0</td>\n",
       "      <td>1</td>\n",
       "    </tr>\n",
       "    <tr>\n",
       "      <th>3</th>\n",
       "      <td>0</td>\n",
       "      <td>1</td>\n",
       "      <td>0.000000</td>\n",
       "      <td>0</td>\n",
       "      <td>0</td>\n",
       "      <td>0.031889</td>\n",
       "      <td>0.056592</td>\n",
       "      <td>0.171429</td>\n",
       "      <td>0.75</td>\n",
       "      <td>1.0</td>\n",
       "      <td>1.0</td>\n",
       "      <td>1</td>\n",
       "    </tr>\n",
       "    <tr>\n",
       "      <th>4</th>\n",
       "      <td>0</td>\n",
       "      <td>0</td>\n",
       "      <td>0.000000</td>\n",
       "      <td>1</td>\n",
       "      <td>0</td>\n",
       "      <td>0.074074</td>\n",
       "      <td>0.000000</td>\n",
       "      <td>0.201429</td>\n",
       "      <td>0.75</td>\n",
       "      <td>1.0</td>\n",
       "      <td>1.0</td>\n",
       "      <td>1</td>\n",
       "    </tr>\n",
       "  </tbody>\n",
       "</table>\n",
       "</div>"
      ],
      "text/plain": [
       "   Gender  Married  Dependents  Education  Self_Employed  ApplicantIncome  \\\n",
       "0       0        0    0.000000          1              0         0.072210   \n",
       "1       0        1    0.333333          1              0         0.056580   \n",
       "2       0        1    0.000000          1              1         0.037037   \n",
       "3       0        1    0.000000          0              0         0.031889   \n",
       "4       0        0    0.000000          1              0         0.074074   \n",
       "\n",
       "   CoapplicantIncome  LoanAmount  Loan_Amount_Term  Credit_History  \\\n",
       "0           0.000000    0.182857              0.75             1.0   \n",
       "1           0.036192    0.182857              0.75             1.0   \n",
       "2           0.000000    0.094286              0.75             1.0   \n",
       "3           0.056592    0.171429              0.75             1.0   \n",
       "4           0.000000    0.201429              0.75             1.0   \n",
       "\n",
       "   Property_Area  Loan_Status  \n",
       "0            1.0            1  \n",
       "1            0.0            0  \n",
       "2            1.0            1  \n",
       "3            1.0            1  \n",
       "4            1.0            1  "
      ]
     },
     "execution_count": 35,
     "metadata": {},
     "output_type": "execute_result"
    }
   ],
   "source": [
    "df.head()"
   ]
  },
  {
   "cell_type": "code",
   "execution_count": 36,
   "id": "little-illustration",
   "metadata": {
    "execution": {
     "iopub.execute_input": "2021-06-19T20:53:26.776462Z",
     "iopub.status.busy": "2021-06-19T20:53:26.775749Z",
     "iopub.status.idle": "2021-06-19T20:53:26.784449Z",
     "shell.execute_reply": "2021-06-19T20:53:26.784927Z",
     "shell.execute_reply.started": "2021-06-19T20:52:17.770948Z"
    },
    "papermill": {
     "duration": 0.08843,
     "end_time": "2021-06-19T20:53:26.785115",
     "exception": false,
     "start_time": "2021-06-19T20:53:26.696685",
     "status": "completed"
    },
    "tags": []
   },
   "outputs": [],
   "source": [
    "x_train, x_test, y_train, y_test = train_test_split(df.drop('Loan_Status',axis=1,inplace=False), df['Loan_Status'], test_size=0.8, random_state=43)"
   ]
  },
  {
   "cell_type": "code",
   "execution_count": 37,
   "id": "sonic-example",
   "metadata": {
    "execution": {
     "iopub.execute_input": "2021-06-19T20:53:26.960082Z",
     "iopub.status.busy": "2021-06-19T20:53:26.958957Z",
     "iopub.status.idle": "2021-06-19T20:53:26.962828Z",
     "shell.execute_reply": "2021-06-19T20:53:26.963315Z",
     "shell.execute_reply.started": "2021-06-19T20:52:17.781145Z"
    },
    "papermill": {
     "duration": 0.096054,
     "end_time": "2021-06-19T20:53:26.963485",
     "exception": false,
     "start_time": "2021-06-19T20:53:26.867431",
     "status": "completed"
    },
    "tags": []
   },
   "outputs": [
    {
     "data": {
      "text/html": [
       "<div>\n",
       "<style scoped>\n",
       "    .dataframe tbody tr th:only-of-type {\n",
       "        vertical-align: middle;\n",
       "    }\n",
       "\n",
       "    .dataframe tbody tr th {\n",
       "        vertical-align: top;\n",
       "    }\n",
       "\n",
       "    .dataframe thead th {\n",
       "        text-align: right;\n",
       "    }\n",
       "</style>\n",
       "<table border=\"1\" class=\"dataframe\">\n",
       "  <thead>\n",
       "    <tr style=\"text-align: right;\">\n",
       "      <th></th>\n",
       "      <th>Gender</th>\n",
       "      <th>Married</th>\n",
       "      <th>Dependents</th>\n",
       "      <th>Education</th>\n",
       "      <th>Self_Employed</th>\n",
       "      <th>ApplicantIncome</th>\n",
       "      <th>CoapplicantIncome</th>\n",
       "      <th>LoanAmount</th>\n",
       "      <th>Loan_Amount_Term</th>\n",
       "      <th>Credit_History</th>\n",
       "      <th>Property_Area</th>\n",
       "    </tr>\n",
       "  </thead>\n",
       "  <tbody>\n",
       "    <tr>\n",
       "      <th>362</th>\n",
       "      <td>0</td>\n",
       "      <td>1</td>\n",
       "      <td>0.000000</td>\n",
       "      <td>1</td>\n",
       "      <td>0</td>\n",
       "      <td>0.058642</td>\n",
       "      <td>0.055992</td>\n",
       "      <td>0.185714</td>\n",
       "      <td>0.750</td>\n",
       "      <td>1.0</td>\n",
       "      <td>1.0</td>\n",
       "    </tr>\n",
       "    <tr>\n",
       "      <th>373</th>\n",
       "      <td>0</td>\n",
       "      <td>0</td>\n",
       "      <td>0.333333</td>\n",
       "      <td>1</td>\n",
       "      <td>0</td>\n",
       "      <td>0.037802</td>\n",
       "      <td>0.047688</td>\n",
       "      <td>0.158571</td>\n",
       "      <td>0.375</td>\n",
       "      <td>0.0</td>\n",
       "      <td>1.0</td>\n",
       "    </tr>\n",
       "    <tr>\n",
       "      <th>278</th>\n",
       "      <td>0</td>\n",
       "      <td>1</td>\n",
       "      <td>0.000000</td>\n",
       "      <td>1</td>\n",
       "      <td>0</td>\n",
       "      <td>0.180037</td>\n",
       "      <td>0.000000</td>\n",
       "      <td>0.622857</td>\n",
       "      <td>0.750</td>\n",
       "      <td>1.0</td>\n",
       "      <td>0.5</td>\n",
       "    </tr>\n",
       "    <tr>\n",
       "      <th>435</th>\n",
       "      <td>1</td>\n",
       "      <td>1</td>\n",
       "      <td>0.000000</td>\n",
       "      <td>1</td>\n",
       "      <td>0</td>\n",
       "      <td>0.124037</td>\n",
       "      <td>0.000000</td>\n",
       "      <td>0.182857</td>\n",
       "      <td>0.500</td>\n",
       "      <td>1.0</td>\n",
       "      <td>0.5</td>\n",
       "    </tr>\n",
       "    <tr>\n",
       "      <th>241</th>\n",
       "      <td>0</td>\n",
       "      <td>1</td>\n",
       "      <td>0.333333</td>\n",
       "      <td>0</td>\n",
       "      <td>0</td>\n",
       "      <td>0.030988</td>\n",
       "      <td>0.047592</td>\n",
       "      <td>0.200000</td>\n",
       "      <td>0.375</td>\n",
       "      <td>1.0</td>\n",
       "      <td>1.0</td>\n",
       "    </tr>\n",
       "  </tbody>\n",
       "</table>\n",
       "</div>"
      ],
      "text/plain": [
       "     Gender  Married  Dependents  Education  Self_Employed  ApplicantIncome  \\\n",
       "362       0        1    0.000000          1              0         0.058642   \n",
       "373       0        0    0.333333          1              0         0.037802   \n",
       "278       0        1    0.000000          1              0         0.180037   \n",
       "435       1        1    0.000000          1              0         0.124037   \n",
       "241       0        1    0.333333          0              0         0.030988   \n",
       "\n",
       "     CoapplicantIncome  LoanAmount  Loan_Amount_Term  Credit_History  \\\n",
       "362           0.055992    0.185714             0.750             1.0   \n",
       "373           0.047688    0.158571             0.375             0.0   \n",
       "278           0.000000    0.622857             0.750             1.0   \n",
       "435           0.000000    0.182857             0.500             1.0   \n",
       "241           0.047592    0.200000             0.375             1.0   \n",
       "\n",
       "     Property_Area  \n",
       "362            1.0  \n",
       "373            1.0  \n",
       "278            0.5  \n",
       "435            0.5  \n",
       "241            1.0  "
      ]
     },
     "execution_count": 37,
     "metadata": {},
     "output_type": "execute_result"
    }
   ],
   "source": [
    "x_train.head()"
   ]
  },
  {
   "cell_type": "code",
   "execution_count": 38,
   "id": "pharmaceutical-jurisdiction",
   "metadata": {
    "execution": {
     "iopub.execute_input": "2021-06-19T20:53:27.120420Z",
     "iopub.status.busy": "2021-06-19T20:53:27.119462Z",
     "iopub.status.idle": "2021-06-19T20:53:27.125582Z",
     "shell.execute_reply": "2021-06-19T20:53:27.126038Z",
     "shell.execute_reply.started": "2021-06-19T20:52:17.806020Z"
    },
    "papermill": {
     "duration": 0.085983,
     "end_time": "2021-06-19T20:53:27.126212",
     "exception": false,
     "start_time": "2021-06-19T20:53:27.040229",
     "status": "completed"
    },
    "tags": []
   },
   "outputs": [
    {
     "data": {
      "text/plain": [
       "362    1\n",
       "373    0\n",
       "278    1\n",
       "435    1\n",
       "241    0\n",
       "Name: Loan_Status, dtype: int64"
      ]
     },
     "execution_count": 38,
     "metadata": {},
     "output_type": "execute_result"
    }
   ],
   "source": [
    "y_train.head()"
   ]
  },
  {
   "cell_type": "code",
   "execution_count": 39,
   "id": "involved-example",
   "metadata": {
    "execution": {
     "iopub.execute_input": "2021-06-19T20:53:27.283899Z",
     "iopub.status.busy": "2021-06-19T20:53:27.282937Z",
     "iopub.status.idle": "2021-06-19T20:53:27.286504Z",
     "shell.execute_reply": "2021-06-19T20:53:27.286984Z",
     "shell.execute_reply.started": "2021-06-19T20:52:17.820269Z"
    },
    "papermill": {
     "duration": 0.083518,
     "end_time": "2021-06-19T20:53:27.287171",
     "exception": false,
     "start_time": "2021-06-19T20:53:27.203653",
     "status": "completed"
    },
    "tags": []
   },
   "outputs": [],
   "source": [
    "#df.dtypes"
   ]
  },
  {
   "cell_type": "code",
   "execution_count": 40,
   "id": "swedish-screw",
   "metadata": {
    "execution": {
     "iopub.execute_input": "2021-06-19T20:53:27.443652Z",
     "iopub.status.busy": "2021-06-19T20:53:27.442664Z",
     "iopub.status.idle": "2021-06-19T20:53:27.448276Z",
     "shell.execute_reply": "2021-06-19T20:53:27.447584Z",
     "shell.execute_reply.started": "2021-06-19T20:52:17.833144Z"
    },
    "papermill": {
     "duration": 0.084776,
     "end_time": "2021-06-19T20:53:27.448421",
     "exception": false,
     "start_time": "2021-06-19T20:53:27.363645",
     "status": "completed"
    },
    "tags": []
   },
   "outputs": [],
   "source": [
    "from sklearn.metrics import f1_score, accuracy_score, confusion_matrix"
   ]
  },
  {
   "cell_type": "code",
   "execution_count": 41,
   "id": "cultural-terrain",
   "metadata": {
    "execution": {
     "iopub.execute_input": "2021-06-19T20:53:27.607161Z",
     "iopub.status.busy": "2021-06-19T20:53:27.606497Z",
     "iopub.status.idle": "2021-06-19T20:53:27.862488Z",
     "shell.execute_reply": "2021-06-19T20:53:27.861958Z",
     "shell.execute_reply.started": "2021-06-19T20:52:17.846307Z"
    },
    "papermill": {
     "duration": 0.33626,
     "end_time": "2021-06-19T20:53:27.862652",
     "exception": false,
     "start_time": "2021-06-19T20:53:27.526392",
     "status": "completed"
    },
    "tags": []
   },
   "outputs": [],
   "source": [
    "from sklearn.ensemble import RandomForestClassifier"
   ]
  },
  {
   "cell_type": "code",
   "execution_count": 42,
   "id": "deadly-mortgage",
   "metadata": {
    "execution": {
     "iopub.execute_input": "2021-06-19T20:53:28.021795Z",
     "iopub.status.busy": "2021-06-19T20:53:28.021111Z",
     "iopub.status.idle": "2021-06-19T20:53:28.024133Z",
     "shell.execute_reply": "2021-06-19T20:53:28.023478Z",
     "shell.execute_reply.started": "2021-06-19T20:52:17.857384Z"
    },
    "papermill": {
     "duration": 0.08481,
     "end_time": "2021-06-19T20:53:28.024285",
     "exception": false,
     "start_time": "2021-06-19T20:53:27.939475",
     "status": "completed"
    },
    "tags": []
   },
   "outputs": [],
   "source": [
    "from sklearn.model_selection import GridSearchCV"
   ]
  },
  {
   "cell_type": "code",
   "execution_count": 43,
   "id": "successful-press",
   "metadata": {
    "execution": {
     "iopub.execute_input": "2021-06-19T20:53:28.185304Z",
     "iopub.status.busy": "2021-06-19T20:53:28.184480Z",
     "iopub.status.idle": "2021-06-19T20:53:28.187503Z",
     "shell.execute_reply": "2021-06-19T20:53:28.187003Z",
     "shell.execute_reply.started": "2021-06-19T20:52:17.867795Z"
    },
    "papermill": {
     "duration": 0.086329,
     "end_time": "2021-06-19T20:53:28.187645",
     "exception": false,
     "start_time": "2021-06-19T20:53:28.101316",
     "status": "completed"
    },
    "tags": []
   },
   "outputs": [],
   "source": [
    "param_grid = {\n",
    "    'max_depth' : range(4,25),\n",
    "    'min_samples_leaf' : range(20,200,10),\n",
    "    'min_samples_split' : range(20,200,10),\n",
    "    'criterion' : ['gini','entropy'] \n",
    "}\n",
    "n_folds = 5"
   ]
  },
  {
   "cell_type": "code",
   "execution_count": 44,
   "id": "palestinian-operations",
   "metadata": {
    "execution": {
     "iopub.execute_input": "2021-06-19T20:53:28.348373Z",
     "iopub.status.busy": "2021-06-19T20:53:28.347664Z",
     "iopub.status.idle": "2021-06-19T20:53:28.350564Z",
     "shell.execute_reply": "2021-06-19T20:53:28.350082Z",
     "shell.execute_reply.started": "2021-06-19T20:52:17.879947Z"
    },
    "papermill": {
     "duration": 0.086118,
     "end_time": "2021-06-19T20:53:28.350717",
     "exception": false,
     "start_time": "2021-06-19T20:53:28.264599",
     "status": "completed"
    },
    "tags": []
   },
   "outputs": [],
   "source": [
    "rd=RandomForestClassifier(random_state=np.random.randint(0,100))\n",
    "grid = GridSearchCV(rd, param_grid, cv = n_folds, return_train_score=True,verbose=3)"
   ]
  },
  {
   "cell_type": "code",
   "execution_count": 45,
   "id": "reliable-trauma",
   "metadata": {
    "execution": {
     "iopub.execute_input": "2021-06-19T20:53:28.510412Z",
     "iopub.status.busy": "2021-06-19T20:53:28.509663Z",
     "iopub.status.idle": "2021-06-19T20:53:28.512206Z",
     "shell.execute_reply": "2021-06-19T20:53:28.511687Z",
     "shell.execute_reply.started": "2021-06-19T20:52:17.891764Z"
    },
    "papermill": {
     "duration": 0.084183,
     "end_time": "2021-06-19T20:53:28.512354",
     "exception": false,
     "start_time": "2021-06-19T20:53:28.428171",
     "status": "completed"
    },
    "tags": []
   },
   "outputs": [],
   "source": [
    "#grid.fit(x_train,y_train)\n"
   ]
  },
  {
   "cell_type": "code",
   "execution_count": 46,
   "id": "marked-thousand",
   "metadata": {
    "execution": {
     "iopub.execute_input": "2021-06-19T20:53:28.672541Z",
     "iopub.status.busy": "2021-06-19T20:53:28.671908Z",
     "iopub.status.idle": "2021-06-19T20:53:28.673886Z",
     "shell.execute_reply": "2021-06-19T20:53:28.674333Z",
     "shell.execute_reply.started": "2021-06-19T20:52:17.903588Z"
    },
    "papermill": {
     "duration": 0.083805,
     "end_time": "2021-06-19T20:53:28.674513",
     "exception": false,
     "start_time": "2021-06-19T20:53:28.590708",
     "status": "completed"
    },
    "tags": []
   },
   "outputs": [],
   "source": [
    "#grid.best_params_"
   ]
  },
  {
   "cell_type": "code",
   "execution_count": 47,
   "id": "viral-overall",
   "metadata": {
    "execution": {
     "iopub.execute_input": "2021-06-19T20:53:28.846328Z",
     "iopub.status.busy": "2021-06-19T20:53:28.837807Z",
     "iopub.status.idle": "2021-06-19T20:53:28.869920Z",
     "shell.execute_reply": "2021-06-19T20:53:28.869165Z",
     "shell.execute_reply.started": "2021-06-19T20:52:17.914581Z"
    },
    "papermill": {
     "duration": 0.118415,
     "end_time": "2021-06-19T20:53:28.870074",
     "exception": false,
     "start_time": "2021-06-19T20:53:28.751659",
     "status": "completed"
    },
    "tags": []
   },
   "outputs": [],
   "source": [
    "classifier=RandomForestClassifier(n_estimators=12,criterion='gini',random_state=43,max_features='auto',max_depth=7,min_samples_leaf=7,min_samples_split=20)\n",
    "classifier.fit(x_train,y_train)\n",
    "preds=classifier.predict(x_test)"
   ]
  },
  {
   "cell_type": "code",
   "execution_count": 48,
   "id": "agreed-indie",
   "metadata": {
    "execution": {
     "iopub.execute_input": "2021-06-19T20:53:29.030851Z",
     "iopub.status.busy": "2021-06-19T20:53:29.030137Z",
     "iopub.status.idle": "2021-06-19T20:53:29.034054Z",
     "shell.execute_reply": "2021-06-19T20:53:29.034508Z",
     "shell.execute_reply.started": "2021-06-19T20:52:17.957762Z"
    },
    "papermill": {
     "duration": 0.087711,
     "end_time": "2021-06-19T20:53:29.034731",
     "exception": false,
     "start_time": "2021-06-19T20:53:28.947020",
     "status": "completed"
    },
    "tags": []
   },
   "outputs": [
    {
     "data": {
      "text/plain": [
       "0.766260162601626"
      ]
     },
     "execution_count": 48,
     "metadata": {},
     "output_type": "execute_result"
    }
   ],
   "source": [
    "accuracy=accuracy_score(y_test,preds)\n",
    "accuracy"
   ]
  },
  {
   "cell_type": "code",
   "execution_count": 49,
   "id": "corporate-pontiac",
   "metadata": {
    "execution": {
     "iopub.execute_input": "2021-06-19T20:53:29.198538Z",
     "iopub.status.busy": "2021-06-19T20:53:29.197791Z",
     "iopub.status.idle": "2021-06-19T20:53:29.199982Z",
     "shell.execute_reply": "2021-06-19T20:53:29.200433Z",
     "shell.execute_reply.started": "2021-06-19T20:52:17.965210Z"
    },
    "papermill": {
     "duration": 0.088212,
     "end_time": "2021-06-19T20:53:29.200609",
     "exception": false,
     "start_time": "2021-06-19T20:53:29.112397",
     "status": "completed"
    },
    "tags": []
   },
   "outputs": [],
   "source": [
    "from sklearn.tree import DecisionTreeClassifier\n",
    "from sklearn import tree"
   ]
  },
  {
   "cell_type": "code",
   "execution_count": 50,
   "id": "married-warehouse",
   "metadata": {
    "execution": {
     "iopub.execute_input": "2021-06-19T20:53:29.359288Z",
     "iopub.status.busy": "2021-06-19T20:53:29.358576Z",
     "iopub.status.idle": "2021-06-19T20:53:29.368381Z",
     "shell.execute_reply": "2021-06-19T20:53:29.368944Z",
     "shell.execute_reply.started": "2021-06-19T20:52:17.976390Z"
    },
    "papermill": {
     "duration": 0.091087,
     "end_time": "2021-06-19T20:53:29.369129",
     "exception": false,
     "start_time": "2021-06-19T20:53:29.278042",
     "status": "completed"
    },
    "tags": []
   },
   "outputs": [],
   "source": [
    "best_tree=DecisionTreeClassifier(criterion='gini',max_depth=4,min_samples_leaf=20,min_samples_split=80,random_state=np.random.randint(0,100))\n",
    "best_tree.fit(x_train,y_train)\n",
    "y_pred_best=best_tree.predict(x_test)"
   ]
  },
  {
   "cell_type": "code",
   "execution_count": 51,
   "id": "centered-poker",
   "metadata": {
    "execution": {
     "iopub.execute_input": "2021-06-19T20:53:29.528379Z",
     "iopub.status.busy": "2021-06-19T20:53:29.527659Z",
     "iopub.status.idle": "2021-06-19T20:53:29.534235Z",
     "shell.execute_reply": "2021-06-19T20:53:29.533540Z",
     "shell.execute_reply.started": "2021-06-19T20:52:17.993844Z"
    },
    "papermill": {
     "duration": 0.08849,
     "end_time": "2021-06-19T20:53:29.534525",
     "exception": false,
     "start_time": "2021-06-19T20:53:29.446035",
     "status": "completed"
    },
    "tags": []
   },
   "outputs": [
    {
     "data": {
      "text/plain": [
       "0.8150406504065041"
      ]
     },
     "execution_count": 51,
     "metadata": {},
     "output_type": "execute_result"
    }
   ],
   "source": [
    "accuracy=accuracy_score(y_test,y_pred_best)\n",
    "accuracy"
   ]
  },
  {
   "cell_type": "code",
   "execution_count": null,
   "id": "blind-plenty",
   "metadata": {
    "papermill": {
     "duration": 0.07731,
     "end_time": "2021-06-19T20:53:29.690230",
     "exception": false,
     "start_time": "2021-06-19T20:53:29.612920",
     "status": "completed"
    },
    "tags": []
   },
   "outputs": [],
   "source": []
  },
  {
   "cell_type": "code",
   "execution_count": null,
   "id": "planned-passion",
   "metadata": {
    "papermill": {
     "duration": 0.080958,
     "end_time": "2021-06-19T20:53:29.848667",
     "exception": false,
     "start_time": "2021-06-19T20:53:29.767709",
     "status": "completed"
    },
    "tags": []
   },
   "outputs": [],
   "source": []
  },
  {
   "cell_type": "code",
   "execution_count": null,
   "id": "solar-daniel",
   "metadata": {
    "papermill": {
     "duration": 0.077899,
     "end_time": "2021-06-19T20:53:30.023575",
     "exception": false,
     "start_time": "2021-06-19T20:53:29.945676",
     "status": "completed"
    },
    "tags": []
   },
   "outputs": [],
   "source": []
  },
  {
   "cell_type": "code",
   "execution_count": 52,
   "id": "located-auditor",
   "metadata": {
    "execution": {
     "iopub.execute_input": "2021-06-19T20:53:30.203107Z",
     "iopub.status.busy": "2021-06-19T20:53:30.184258Z",
     "iopub.status.idle": "2021-06-19T20:53:30.384227Z",
     "shell.execute_reply": "2021-06-19T20:53:30.384804Z",
     "shell.execute_reply.started": "2021-06-19T20:52:18.008226Z"
    },
    "papermill": {
     "duration": 0.283972,
     "end_time": "2021-06-19T20:53:30.384985",
     "exception": false,
     "start_time": "2021-06-19T20:53:30.101013",
     "status": "completed"
    },
    "tags": []
   },
   "outputs": [
    {
     "data": {
      "image/png": "[encoded data removed]",
      "text/plain": [
       "<Figure size 360x360 with 2 Axes>"
      ]
     },
     "metadata": {
      "needs_background": "light"
     },
     "output_type": "display_data"
    }
   ],
   "source": [
    "cfm=confusion_matrix(y_test,preds)\n",
    "f, ax = plt.subplots(figsize=(5,5))\n",
    "sns.heatmap(cfm, annot=True, linewidth=0.7, linecolor='cyan', fmt='g', ax=ax, cmap=\"BuPu\")\n",
    "plt.title('Classification Confusion Matrix')\n",
    "plt.xlabel('Y predict')\n",
    "plt.ylabel('Y test')\n",
    "plt.show()"
   ]
  },
  {
   "cell_type": "code",
   "execution_count": 53,
   "id": "involved-buddy",
   "metadata": {
    "execution": {
     "iopub.execute_input": "2021-06-19T20:53:30.581484Z",
     "iopub.status.busy": "2021-06-19T20:53:30.580517Z",
     "iopub.status.idle": "2021-06-19T20:53:30.599929Z",
     "shell.execute_reply": "2021-06-19T20:53:30.600439Z",
     "shell.execute_reply.started": "2021-06-19T20:52:18.275069Z"
    },
    "papermill": {
     "duration": 0.117268,
     "end_time": "2021-06-19T20:53:30.600617",
     "exception": false,
     "start_time": "2021-06-19T20:53:30.483349",
     "status": "completed"
    },
    "tags": []
   },
   "outputs": [
    {
     "data": {
      "text/html": [
       "<div>\n",
       "<style scoped>\n",
       "    .dataframe tbody tr th:only-of-type {\n",
       "        vertical-align: middle;\n",
       "    }\n",
       "\n",
       "    .dataframe tbody tr th {\n",
       "        vertical-align: top;\n",
       "    }\n",
       "\n",
       "    .dataframe thead th {\n",
       "        text-align: right;\n",
       "    }\n",
       "</style>\n",
       "<table border=\"1\" class=\"dataframe\">\n",
       "  <thead>\n",
       "    <tr style=\"text-align: right;\">\n",
       "      <th></th>\n",
       "      <th>Loan_ID</th>\n",
       "      <th>Gender</th>\n",
       "      <th>Married</th>\n",
       "      <th>Dependents</th>\n",
       "      <th>Education</th>\n",
       "      <th>Self_Employed</th>\n",
       "      <th>ApplicantIncome</th>\n",
       "      <th>CoapplicantIncome</th>\n",
       "      <th>LoanAmount</th>\n",
       "      <th>Loan_Amount_Term</th>\n",
       "      <th>Credit_History</th>\n",
       "      <th>Property_Area</th>\n",
       "    </tr>\n",
       "  </thead>\n",
       "  <tbody>\n",
       "    <tr>\n",
       "      <th>0</th>\n",
       "      <td>LP001015</td>\n",
       "      <td>Male</td>\n",
       "      <td>Yes</td>\n",
       "      <td>0</td>\n",
       "      <td>Graduate</td>\n",
       "      <td>No</td>\n",
       "      <td>5720</td>\n",
       "      <td>0</td>\n",
       "      <td>110.0</td>\n",
       "      <td>360.0</td>\n",
       "      <td>1.0</td>\n",
       "      <td>Urban</td>\n",
       "    </tr>\n",
       "    <tr>\n",
       "      <th>1</th>\n",
       "      <td>LP001022</td>\n",
       "      <td>Male</td>\n",
       "      <td>Yes</td>\n",
       "      <td>1</td>\n",
       "      <td>Graduate</td>\n",
       "      <td>No</td>\n",
       "      <td>3076</td>\n",
       "      <td>1500</td>\n",
       "      <td>126.0</td>\n",
       "      <td>360.0</td>\n",
       "      <td>1.0</td>\n",
       "      <td>Urban</td>\n",
       "    </tr>\n",
       "    <tr>\n",
       "      <th>2</th>\n",
       "      <td>LP001031</td>\n",
       "      <td>Male</td>\n",
       "      <td>Yes</td>\n",
       "      <td>2</td>\n",
       "      <td>Graduate</td>\n",
       "      <td>No</td>\n",
       "      <td>5000</td>\n",
       "      <td>1800</td>\n",
       "      <td>208.0</td>\n",
       "      <td>360.0</td>\n",
       "      <td>1.0</td>\n",
       "      <td>Urban</td>\n",
       "    </tr>\n",
       "    <tr>\n",
       "      <th>3</th>\n",
       "      <td>LP001035</td>\n",
       "      <td>Male</td>\n",
       "      <td>Yes</td>\n",
       "      <td>2</td>\n",
       "      <td>Graduate</td>\n",
       "      <td>No</td>\n",
       "      <td>2340</td>\n",
       "      <td>2546</td>\n",
       "      <td>100.0</td>\n",
       "      <td>360.0</td>\n",
       "      <td>NaN</td>\n",
       "      <td>Urban</td>\n",
       "    </tr>\n",
       "    <tr>\n",
       "      <th>4</th>\n",
       "      <td>LP001051</td>\n",
       "      <td>Male</td>\n",
       "      <td>No</td>\n",
       "      <td>0</td>\n",
       "      <td>Not Graduate</td>\n",
       "      <td>No</td>\n",
       "      <td>3276</td>\n",
       "      <td>0</td>\n",
       "      <td>78.0</td>\n",
       "      <td>360.0</td>\n",
       "      <td>1.0</td>\n",
       "      <td>Urban</td>\n",
       "    </tr>\n",
       "  </tbody>\n",
       "</table>\n",
       "</div>"
      ],
      "text/plain": [
       "    Loan_ID Gender Married Dependents     Education Self_Employed  \\\n",
       "0  LP001015   Male     Yes          0      Graduate            No   \n",
       "1  LP001022   Male     Yes          1      Graduate            No   \n",
       "2  LP001031   Male     Yes          2      Graduate            No   \n",
       "3  LP001035   Male     Yes          2      Graduate            No   \n",
       "4  LP001051   Male      No          0  Not Graduate            No   \n",
       "\n",
       "   ApplicantIncome  CoapplicantIncome  LoanAmount  Loan_Amount_Term  \\\n",
       "0             5720                  0       110.0             360.0   \n",
       "1             3076               1500       126.0             360.0   \n",
       "2             5000               1800       208.0             360.0   \n",
       "3             2340               2546       100.0             360.0   \n",
       "4             3276                  0        78.0             360.0   \n",
       "\n",
       "   Credit_History Property_Area  \n",
       "0             1.0         Urban  \n",
       "1             1.0         Urban  \n",
       "2             1.0         Urban  \n",
       "3             NaN         Urban  \n",
       "4             1.0         Urban  "
      ]
     },
     "execution_count": 53,
     "metadata": {},
     "output_type": "execute_result"
    }
   ],
   "source": [
    "test.head()"
   ]
  },
  {
   "cell_type": "code",
   "execution_count": 54,
   "id": "enormous-parallel",
   "metadata": {
    "execution": {
     "iopub.execute_input": "2021-06-19T20:53:30.776966Z",
     "iopub.status.busy": "2021-06-19T20:53:30.775973Z",
     "iopub.status.idle": "2021-06-19T20:53:31.199046Z",
     "shell.execute_reply": "2021-06-19T20:53:31.199581Z",
     "shell.execute_reply.started": "2021-06-19T20:52:18.299247Z"
    },
    "papermill": {
     "duration": 0.510811,
     "end_time": "2021-06-19T20:53:31.199751",
     "exception": false,
     "start_time": "2021-06-19T20:53:30.688940",
     "status": "completed"
    },
    "tags": []
   },
   "outputs": [
    {
     "data": {
      "text/plain": [
       "<AxesSubplot:>"
      ]
     },
     "execution_count": 54,
     "metadata": {},
     "output_type": "execute_result"
    },
    {
     "data": {
      "image/png": "[encoded data removed]",
      "text/plain": [
       "<Figure size 432x288 with 2 Axes>"
      ]
     },
     "metadata": {
      "needs_background": "light"
     },
     "output_type": "display_data"
    }
   ],
   "source": [
    "sns.heatmap(test.isnull())"
   ]
  },
  {
   "cell_type": "code",
   "execution_count": 55,
   "id": "stupid-release",
   "metadata": {
    "execution": {
     "iopub.execute_input": "2021-06-19T20:53:31.365466Z",
     "iopub.status.busy": "2021-06-19T20:53:31.364454Z",
     "iopub.status.idle": "2021-06-19T20:53:31.385021Z",
     "shell.execute_reply": "2021-06-19T20:53:31.385518Z",
     "shell.execute_reply.started": "2021-06-19T20:52:18.778076Z"
    },
    "papermill": {
     "duration": 0.104374,
     "end_time": "2021-06-19T20:53:31.385688",
     "exception": false,
     "start_time": "2021-06-19T20:53:31.281314",
     "status": "completed"
    },
    "tags": []
   },
   "outputs": [
    {
     "data": {
      "text/html": [
       "<div>\n",
       "<style scoped>\n",
       "    .dataframe tbody tr th:only-of-type {\n",
       "        vertical-align: middle;\n",
       "    }\n",
       "\n",
       "    .dataframe tbody tr th {\n",
       "        vertical-align: top;\n",
       "    }\n",
       "\n",
       "    .dataframe thead th {\n",
       "        text-align: right;\n",
       "    }\n",
       "</style>\n",
       "<table border=\"1\" class=\"dataframe\">\n",
       "  <thead>\n",
       "    <tr style=\"text-align: right;\">\n",
       "      <th></th>\n",
       "      <th>Loan_ID</th>\n",
       "      <th>Gender</th>\n",
       "      <th>Married</th>\n",
       "      <th>Dependents</th>\n",
       "      <th>Education</th>\n",
       "      <th>Self_Employed</th>\n",
       "      <th>ApplicantIncome</th>\n",
       "      <th>CoapplicantIncome</th>\n",
       "      <th>LoanAmount</th>\n",
       "      <th>Loan_Amount_Term</th>\n",
       "      <th>Credit_History</th>\n",
       "      <th>Property_Area</th>\n",
       "    </tr>\n",
       "  </thead>\n",
       "  <tbody>\n",
       "    <tr>\n",
       "      <th>0</th>\n",
       "      <td>LP001015</td>\n",
       "      <td>Male</td>\n",
       "      <td>Yes</td>\n",
       "      <td>0</td>\n",
       "      <td>Graduate</td>\n",
       "      <td>No</td>\n",
       "      <td>5720</td>\n",
       "      <td>0</td>\n",
       "      <td>110.0</td>\n",
       "      <td>360.0</td>\n",
       "      <td>1.0</td>\n",
       "      <td>Urban</td>\n",
       "    </tr>\n",
       "    <tr>\n",
       "      <th>1</th>\n",
       "      <td>LP001022</td>\n",
       "      <td>Male</td>\n",
       "      <td>Yes</td>\n",
       "      <td>1</td>\n",
       "      <td>Graduate</td>\n",
       "      <td>No</td>\n",
       "      <td>3076</td>\n",
       "      <td>1500</td>\n",
       "      <td>126.0</td>\n",
       "      <td>360.0</td>\n",
       "      <td>1.0</td>\n",
       "      <td>Urban</td>\n",
       "    </tr>\n",
       "    <tr>\n",
       "      <th>2</th>\n",
       "      <td>LP001031</td>\n",
       "      <td>Male</td>\n",
       "      <td>Yes</td>\n",
       "      <td>2</td>\n",
       "      <td>Graduate</td>\n",
       "      <td>No</td>\n",
       "      <td>5000</td>\n",
       "      <td>1800</td>\n",
       "      <td>208.0</td>\n",
       "      <td>360.0</td>\n",
       "      <td>1.0</td>\n",
       "      <td>Urban</td>\n",
       "    </tr>\n",
       "    <tr>\n",
       "      <th>3</th>\n",
       "      <td>LP001035</td>\n",
       "      <td>Male</td>\n",
       "      <td>Yes</td>\n",
       "      <td>2</td>\n",
       "      <td>Graduate</td>\n",
       "      <td>No</td>\n",
       "      <td>2340</td>\n",
       "      <td>2546</td>\n",
       "      <td>100.0</td>\n",
       "      <td>360.0</td>\n",
       "      <td>NaN</td>\n",
       "      <td>Urban</td>\n",
       "    </tr>\n",
       "    <tr>\n",
       "      <th>4</th>\n",
       "      <td>LP001051</td>\n",
       "      <td>Male</td>\n",
       "      <td>No</td>\n",
       "      <td>0</td>\n",
       "      <td>Not Graduate</td>\n",
       "      <td>No</td>\n",
       "      <td>3276</td>\n",
       "      <td>0</td>\n",
       "      <td>78.0</td>\n",
       "      <td>360.0</td>\n",
       "      <td>1.0</td>\n",
       "      <td>Urban</td>\n",
       "    </tr>\n",
       "  </tbody>\n",
       "</table>\n",
       "</div>"
      ],
      "text/plain": [
       "    Loan_ID Gender Married  Dependents     Education Self_Employed  \\\n",
       "0  LP001015   Male     Yes           0      Graduate            No   \n",
       "1  LP001022   Male     Yes           1      Graduate            No   \n",
       "2  LP001031   Male     Yes           2      Graduate            No   \n",
       "3  LP001035   Male     Yes           2      Graduate            No   \n",
       "4  LP001051   Male      No           0  Not Graduate            No   \n",
       "\n",
       "   ApplicantIncome  CoapplicantIncome  LoanAmount  Loan_Amount_Term  \\\n",
       "0             5720                  0       110.0             360.0   \n",
       "1             3076               1500       126.0             360.0   \n",
       "2             5000               1800       208.0             360.0   \n",
       "3             2340               2546       100.0             360.0   \n",
       "4             3276                  0        78.0             360.0   \n",
       "\n",
       "   Credit_History Property_Area  \n",
       "0             1.0         Urban  \n",
       "1             1.0         Urban  \n",
       "2             1.0         Urban  \n",
       "3             NaN         Urban  \n",
       "4             1.0         Urban  "
      ]
     },
     "execution_count": 55,
     "metadata": {},
     "output_type": "execute_result"
    }
   ],
   "source": [
    "test.Dependents.fillna(\"0\",inplace=True)\n",
    "depend  = {'1': 1,'0':0,'2':2,'3+':3} \n",
    "test.Dependents = [depend[item] for item in test.Dependents] \n",
    "test.head()"
   ]
  },
  {
   "cell_type": "code",
   "execution_count": 56,
   "id": "supreme-republican",
   "metadata": {
    "execution": {
     "iopub.execute_input": "2021-06-19T20:53:31.550278Z",
     "iopub.status.busy": "2021-06-19T20:53:31.549300Z",
     "iopub.status.idle": "2021-06-19T20:53:31.556179Z",
     "shell.execute_reply": "2021-06-19T20:53:31.556626Z",
     "shell.execute_reply.started": "2021-06-19T20:52:18.803826Z"
    },
    "papermill": {
     "duration": 0.091477,
     "end_time": "2021-06-19T20:53:31.556841",
     "exception": false,
     "start_time": "2021-06-19T20:53:31.465364",
     "status": "completed"
    },
    "tags": []
   },
   "outputs": [
    {
     "data": {
      "text/plain": [
       "0    Male\n",
       "dtype: object"
      ]
     },
     "execution_count": 56,
     "metadata": {},
     "output_type": "execute_result"
    }
   ],
   "source": [
    "test[\"Gender\"].mode()"
   ]
  },
  {
   "cell_type": "code",
   "execution_count": null,
   "id": "arctic-google",
   "metadata": {
    "papermill": {
     "duration": 0.081767,
     "end_time": "2021-06-19T20:53:31.718650",
     "exception": false,
     "start_time": "2021-06-19T20:53:31.636883",
     "status": "completed"
    },
    "tags": []
   },
   "outputs": [],
   "source": []
  },
  {
   "cell_type": "code",
   "execution_count": 57,
   "id": "enormous-paintball",
   "metadata": {
    "execution": {
     "iopub.execute_input": "2021-06-19T20:53:31.885854Z",
     "iopub.status.busy": "2021-06-19T20:53:31.884854Z",
     "iopub.status.idle": "2021-06-19T20:53:31.889825Z",
     "shell.execute_reply": "2021-06-19T20:53:31.890278Z",
     "shell.execute_reply.started": "2021-06-19T20:52:18.817126Z"
    },
    "papermill": {
     "duration": 0.090231,
     "end_time": "2021-06-19T20:53:31.890457",
     "exception": false,
     "start_time": "2021-06-19T20:53:31.800226",
     "status": "completed"
    },
    "tags": []
   },
   "outputs": [],
   "source": [
    "test[\"Gender\"].fillna(\"Male\",inplace=True)"
   ]
  },
  {
   "cell_type": "code",
   "execution_count": 58,
   "id": "developed-property",
   "metadata": {
    "execution": {
     "iopub.execute_input": "2021-06-19T20:53:32.055969Z",
     "iopub.status.busy": "2021-06-19T20:53:32.054932Z",
     "iopub.status.idle": "2021-06-19T20:53:32.061695Z",
     "shell.execute_reply": "2021-06-19T20:53:32.062197Z",
     "shell.execute_reply.started": "2021-06-19T20:52:18.826534Z"
    },
    "papermill": {
     "duration": 0.091023,
     "end_time": "2021-06-19T20:53:32.062377",
     "exception": false,
     "start_time": "2021-06-19T20:53:31.971354",
     "status": "completed"
    },
    "tags": []
   },
   "outputs": [
    {
     "data": {
      "text/plain": [
       "0    No\n",
       "dtype: object"
      ]
     },
     "execution_count": 58,
     "metadata": {},
     "output_type": "execute_result"
    }
   ],
   "source": [
    "test[\"Self_Employed\"].mode()"
   ]
  },
  {
   "cell_type": "code",
   "execution_count": 59,
   "id": "cutting-anatomy",
   "metadata": {
    "execution": {
     "iopub.execute_input": "2021-06-19T20:53:32.229629Z",
     "iopub.status.busy": "2021-06-19T20:53:32.228636Z",
     "iopub.status.idle": "2021-06-19T20:53:32.233470Z",
     "shell.execute_reply": "2021-06-19T20:53:32.233941Z",
     "shell.execute_reply.started": "2021-06-19T20:52:18.841058Z"
    },
    "papermill": {
     "duration": 0.089466,
     "end_time": "2021-06-19T20:53:32.234128",
     "exception": false,
     "start_time": "2021-06-19T20:53:32.144662",
     "status": "completed"
    },
    "tags": []
   },
   "outputs": [],
   "source": [
    "test[\"Self_Employed\"].fillna(\"No\",inplace=True)"
   ]
  },
  {
   "cell_type": "code",
   "execution_count": 60,
   "id": "regulated-texas",
   "metadata": {
    "execution": {
     "iopub.execute_input": "2021-06-19T20:53:32.399894Z",
     "iopub.status.busy": "2021-06-19T20:53:32.398916Z",
     "iopub.status.idle": "2021-06-19T20:53:32.404890Z",
     "shell.execute_reply": "2021-06-19T20:53:32.405364Z",
     "shell.execute_reply.started": "2021-06-19T20:52:18.852754Z"
    },
    "papermill": {
     "duration": 0.090057,
     "end_time": "2021-06-19T20:53:32.405543",
     "exception": false,
     "start_time": "2021-06-19T20:53:32.315486",
     "status": "completed"
    },
    "tags": []
   },
   "outputs": [
    {
     "data": {
      "text/plain": [
       "125.0"
      ]
     },
     "execution_count": 60,
     "metadata": {},
     "output_type": "execute_result"
    }
   ],
   "source": [
    "m=test[\"LoanAmount\"].median()\n",
    "m"
   ]
  },
  {
   "cell_type": "code",
   "execution_count": 61,
   "id": "numerical-minimum",
   "metadata": {
    "execution": {
     "iopub.execute_input": "2021-06-19T20:53:32.576177Z",
     "iopub.status.busy": "2021-06-19T20:53:32.575165Z",
     "iopub.status.idle": "2021-06-19T20:53:32.581330Z",
     "shell.execute_reply": "2021-06-19T20:53:32.580635Z",
     "shell.execute_reply.started": "2021-06-19T20:52:18.868287Z"
    },
    "papermill": {
     "duration": 0.094774,
     "end_time": "2021-06-19T20:53:32.581469",
     "exception": false,
     "start_time": "2021-06-19T20:53:32.486695",
     "status": "completed"
    },
    "tags": []
   },
   "outputs": [],
   "source": [
    "test[\"LoanAmount\"].fillna(m,inplace=True)"
   ]
  },
  {
   "cell_type": "code",
   "execution_count": 62,
   "id": "unique-fitting",
   "metadata": {
    "execution": {
     "iopub.execute_input": "2021-06-19T20:53:32.750708Z",
     "iopub.status.busy": "2021-06-19T20:53:32.750020Z",
     "iopub.status.idle": "2021-06-19T20:53:32.752661Z",
     "shell.execute_reply": "2021-06-19T20:53:32.753162Z",
     "shell.execute_reply.started": "2021-06-19T20:52:18.879263Z"
    },
    "papermill": {
     "duration": 0.090788,
     "end_time": "2021-06-19T20:53:32.753330",
     "exception": false,
     "start_time": "2021-06-19T20:53:32.662542",
     "status": "completed"
    },
    "tags": []
   },
   "outputs": [
    {
     "data": {
      "text/plain": [
       "0    360.0\n",
       "dtype: float64"
      ]
     },
     "execution_count": 62,
     "metadata": {},
     "output_type": "execute_result"
    }
   ],
   "source": [
    "test[\"Loan_Amount_Term\"].mode()"
   ]
  },
  {
   "cell_type": "code",
   "execution_count": 63,
   "id": "senior-output",
   "metadata": {
    "execution": {
     "iopub.execute_input": "2021-06-19T20:53:32.920014Z",
     "iopub.status.busy": "2021-06-19T20:53:32.919334Z",
     "iopub.status.idle": "2021-06-19T20:53:32.923348Z",
     "shell.execute_reply": "2021-06-19T20:53:32.923854Z",
     "shell.execute_reply.started": "2021-06-19T20:52:18.891320Z"
    },
    "papermill": {
     "duration": 0.088589,
     "end_time": "2021-06-19T20:53:32.924022",
     "exception": false,
     "start_time": "2021-06-19T20:53:32.835433",
     "status": "completed"
    },
    "tags": []
   },
   "outputs": [],
   "source": [
    "test[\"Loan_Amount_Term\"].fillna(360.0,inplace=True)"
   ]
  },
  {
   "cell_type": "code",
   "execution_count": 64,
   "id": "young-collaboration",
   "metadata": {
    "execution": {
     "iopub.execute_input": "2021-06-19T20:53:33.091617Z",
     "iopub.status.busy": "2021-06-19T20:53:33.090932Z",
     "iopub.status.idle": "2021-06-19T20:53:33.097113Z",
     "shell.execute_reply": "2021-06-19T20:53:33.097571Z",
     "shell.execute_reply.started": "2021-06-19T20:52:18.904534Z"
    },
    "papermill": {
     "duration": 0.091268,
     "end_time": "2021-06-19T20:53:33.097772",
     "exception": false,
     "start_time": "2021-06-19T20:53:33.006504",
     "status": "completed"
    },
    "tags": []
   },
   "outputs": [
    {
     "data": {
      "text/plain": [
       "0    1.0\n",
       "dtype: float64"
      ]
     },
     "execution_count": 64,
     "metadata": {},
     "output_type": "execute_result"
    }
   ],
   "source": [
    "test[\"Credit_History\"].mode()"
   ]
  },
  {
   "cell_type": "code",
   "execution_count": 65,
   "id": "curious-louisiana",
   "metadata": {
    "execution": {
     "iopub.execute_input": "2021-06-19T20:53:33.266080Z",
     "iopub.status.busy": "2021-06-19T20:53:33.265361Z",
     "iopub.status.idle": "2021-06-19T20:53:33.269589Z",
     "shell.execute_reply": "2021-06-19T20:53:33.270075Z",
     "shell.execute_reply.started": "2021-06-19T20:52:18.916554Z"
    },
    "papermill": {
     "duration": 0.089867,
     "end_time": "2021-06-19T20:53:33.270265",
     "exception": false,
     "start_time": "2021-06-19T20:53:33.180398",
     "status": "completed"
    },
    "tags": []
   },
   "outputs": [],
   "source": [
    "test[\"Credit_History\"].fillna(1.0,inplace=True)"
   ]
  },
  {
   "cell_type": "code",
   "execution_count": 66,
   "id": "spread-thong",
   "metadata": {
    "execution": {
     "iopub.execute_input": "2021-06-19T20:53:33.437838Z",
     "iopub.status.busy": "2021-06-19T20:53:33.437185Z",
     "iopub.status.idle": "2021-06-19T20:53:33.884260Z",
     "shell.execute_reply": "2021-06-19T20:53:33.883612Z",
     "shell.execute_reply.started": "2021-06-19T20:52:18.930272Z"
    },
    "papermill": {
     "duration": 0.531492,
     "end_time": "2021-06-19T20:53:33.884409",
     "exception": false,
     "start_time": "2021-06-19T20:53:33.352917",
     "status": "completed"
    },
    "tags": []
   },
   "outputs": [
    {
     "data": {
      "text/plain": [
       "<AxesSubplot:>"
      ]
     },
     "execution_count": 66,
     "metadata": {},
     "output_type": "execute_result"
    },
    {
     "data": {
      "image/png": "[encoded data removed]",
      "text/plain": [
       "<Figure size 432x288 with 2 Axes>"
      ]
     },
     "metadata": {
      "needs_background": "light"
     },
     "output_type": "display_data"
    }
   ],
   "source": [
    "sns.heatmap(test.isnull())"
   ]
  },
  {
   "cell_type": "code",
   "execution_count": 67,
   "id": "black-classification",
   "metadata": {
    "execution": {
     "iopub.execute_input": "2021-06-19T20:53:34.058808Z",
     "iopub.status.busy": "2021-06-19T20:53:34.057780Z",
     "iopub.status.idle": "2021-06-19T20:53:34.061315Z",
     "shell.execute_reply": "2021-06-19T20:53:34.060649Z",
     "shell.execute_reply.started": "2021-06-19T20:52:19.431602Z"
    },
    "papermill": {
     "duration": 0.092075,
     "end_time": "2021-06-19T20:53:34.061459",
     "exception": false,
     "start_time": "2021-06-19T20:53:33.969384",
     "status": "completed"
    },
    "tags": []
   },
   "outputs": [],
   "source": [
    "#test.dropna(axis=0,inplace=True)"
   ]
  },
  {
   "cell_type": "code",
   "execution_count": 68,
   "id": "vulnerable-crime",
   "metadata": {
    "execution": {
     "iopub.execute_input": "2021-06-19T20:53:34.249350Z",
     "iopub.status.busy": "2021-06-19T20:53:34.235537Z",
     "iopub.status.idle": "2021-06-19T20:53:34.253212Z",
     "shell.execute_reply": "2021-06-19T20:53:34.253665Z",
     "shell.execute_reply.started": "2021-06-19T20:52:19.439088Z"
    },
    "papermill": {
     "duration": 0.107851,
     "end_time": "2021-06-19T20:53:34.253859",
     "exception": false,
     "start_time": "2021-06-19T20:53:34.146008",
     "status": "completed"
    },
    "tags": []
   },
   "outputs": [
    {
     "data": {
      "text/html": [
       "<div>\n",
       "<style scoped>\n",
       "    .dataframe tbody tr th:only-of-type {\n",
       "        vertical-align: middle;\n",
       "    }\n",
       "\n",
       "    .dataframe tbody tr th {\n",
       "        vertical-align: top;\n",
       "    }\n",
       "\n",
       "    .dataframe thead th {\n",
       "        text-align: right;\n",
       "    }\n",
       "</style>\n",
       "<table border=\"1\" class=\"dataframe\">\n",
       "  <thead>\n",
       "    <tr style=\"text-align: right;\">\n",
       "      <th></th>\n",
       "      <th>Gender</th>\n",
       "      <th>Married</th>\n",
       "      <th>Dependents</th>\n",
       "      <th>Education</th>\n",
       "      <th>Self_Employed</th>\n",
       "      <th>ApplicantIncome</th>\n",
       "      <th>CoapplicantIncome</th>\n",
       "      <th>LoanAmount</th>\n",
       "      <th>Loan_Amount_Term</th>\n",
       "      <th>Credit_History</th>\n",
       "      <th>Property_Area</th>\n",
       "    </tr>\n",
       "  </thead>\n",
       "  <tbody>\n",
       "    <tr>\n",
       "      <th>0</th>\n",
       "      <td>Male</td>\n",
       "      <td>Yes</td>\n",
       "      <td>0</td>\n",
       "      <td>Graduate</td>\n",
       "      <td>No</td>\n",
       "      <td>5720</td>\n",
       "      <td>0</td>\n",
       "      <td>110.0</td>\n",
       "      <td>360.0</td>\n",
       "      <td>1.0</td>\n",
       "      <td>Urban</td>\n",
       "    </tr>\n",
       "    <tr>\n",
       "      <th>1</th>\n",
       "      <td>Male</td>\n",
       "      <td>Yes</td>\n",
       "      <td>1</td>\n",
       "      <td>Graduate</td>\n",
       "      <td>No</td>\n",
       "      <td>3076</td>\n",
       "      <td>1500</td>\n",
       "      <td>126.0</td>\n",
       "      <td>360.0</td>\n",
       "      <td>1.0</td>\n",
       "      <td>Urban</td>\n",
       "    </tr>\n",
       "    <tr>\n",
       "      <th>2</th>\n",
       "      <td>Male</td>\n",
       "      <td>Yes</td>\n",
       "      <td>2</td>\n",
       "      <td>Graduate</td>\n",
       "      <td>No</td>\n",
       "      <td>5000</td>\n",
       "      <td>1800</td>\n",
       "      <td>208.0</td>\n",
       "      <td>360.0</td>\n",
       "      <td>1.0</td>\n",
       "      <td>Urban</td>\n",
       "    </tr>\n",
       "    <tr>\n",
       "      <th>3</th>\n",
       "      <td>Male</td>\n",
       "      <td>Yes</td>\n",
       "      <td>2</td>\n",
       "      <td>Graduate</td>\n",
       "      <td>No</td>\n",
       "      <td>2340</td>\n",
       "      <td>2546</td>\n",
       "      <td>100.0</td>\n",
       "      <td>360.0</td>\n",
       "      <td>1.0</td>\n",
       "      <td>Urban</td>\n",
       "    </tr>\n",
       "    <tr>\n",
       "      <th>4</th>\n",
       "      <td>Male</td>\n",
       "      <td>No</td>\n",
       "      <td>0</td>\n",
       "      <td>Not Graduate</td>\n",
       "      <td>No</td>\n",
       "      <td>3276</td>\n",
       "      <td>0</td>\n",
       "      <td>78.0</td>\n",
       "      <td>360.0</td>\n",
       "      <td>1.0</td>\n",
       "      <td>Urban</td>\n",
       "    </tr>\n",
       "  </tbody>\n",
       "</table>\n",
       "</div>"
      ],
      "text/plain": [
       "  Gender Married  Dependents     Education Self_Employed  ApplicantIncome  \\\n",
       "0   Male     Yes           0      Graduate            No             5720   \n",
       "1   Male     Yes           1      Graduate            No             3076   \n",
       "2   Male     Yes           2      Graduate            No             5000   \n",
       "3   Male     Yes           2      Graduate            No             2340   \n",
       "4   Male      No           0  Not Graduate            No             3276   \n",
       "\n",
       "   CoapplicantIncome  LoanAmount  Loan_Amount_Term  Credit_History  \\\n",
       "0                  0       110.0             360.0             1.0   \n",
       "1               1500       126.0             360.0             1.0   \n",
       "2               1800       208.0             360.0             1.0   \n",
       "3               2546       100.0             360.0             1.0   \n",
       "4                  0        78.0             360.0             1.0   \n",
       "\n",
       "  Property_Area  \n",
       "0         Urban  \n",
       "1         Urban  \n",
       "2         Urban  \n",
       "3         Urban  \n",
       "4         Urban  "
      ]
     },
     "execution_count": 68,
     "metadata": {},
     "output_type": "execute_result"
    }
   ],
   "source": [
    "test2=test.drop(\"Loan_ID\",axis=1,inplace=False)\n",
    "test2.head()"
   ]
  },
  {
   "cell_type": "code",
   "execution_count": 69,
   "id": "perfect-cuisine",
   "metadata": {
    "execution": {
     "iopub.execute_input": "2021-06-19T20:53:34.427446Z",
     "iopub.status.busy": "2021-06-19T20:53:34.426806Z",
     "iopub.status.idle": "2021-06-19T20:53:34.429377Z",
     "shell.execute_reply": "2021-06-19T20:53:34.429822Z",
     "shell.execute_reply.started": "2021-06-19T20:52:19.466912Z"
    },
    "papermill": {
     "duration": 0.092442,
     "end_time": "2021-06-19T20:53:34.430013",
     "exception": false,
     "start_time": "2021-06-19T20:53:34.337571",
     "status": "completed"
    },
    "tags": []
   },
   "outputs": [],
   "source": [
    "selfemp = {'Yes': 1,'No':0} \n",
    "test2.Self_Employed = [selfemp[item] for item in test2.Self_Employed] \n",
    "#test2.head()"
   ]
  },
  {
   "cell_type": "code",
   "execution_count": 70,
   "id": "nonprofit-bookmark",
   "metadata": {
    "execution": {
     "iopub.execute_input": "2021-06-19T20:53:34.605810Z",
     "iopub.status.busy": "2021-06-19T20:53:34.605150Z",
     "iopub.status.idle": "2021-06-19T20:53:34.607473Z",
     "shell.execute_reply": "2021-06-19T20:53:34.606870Z",
     "shell.execute_reply.started": "2021-06-19T20:52:19.479140Z"
    },
    "papermill": {
     "duration": 0.094123,
     "end_time": "2021-06-19T20:53:34.607612",
     "exception": false,
     "start_time": "2021-06-19T20:53:34.513489",
     "status": "completed"
    },
    "tags": []
   },
   "outputs": [],
   "source": [
    "prop = {'Rural': 0,'Urban':2,'Semiurban':1} \n",
    "test2.Property_Area = [prop[item] for item in test2.Property_Area] \n",
    "#test2.head()"
   ]
  },
  {
   "cell_type": "code",
   "execution_count": 71,
   "id": "excessive-diploma",
   "metadata": {
    "execution": {
     "iopub.execute_input": "2021-06-19T20:53:34.781257Z",
     "iopub.status.busy": "2021-06-19T20:53:34.780610Z",
     "iopub.status.idle": "2021-06-19T20:53:34.784214Z",
     "shell.execute_reply": "2021-06-19T20:53:34.783580Z",
     "shell.execute_reply.started": "2021-06-19T20:52:19.491302Z"
    },
    "papermill": {
     "duration": 0.092913,
     "end_time": "2021-06-19T20:53:34.784383",
     "exception": false,
     "start_time": "2021-06-19T20:53:34.691470",
     "status": "completed"
    },
    "tags": []
   },
   "outputs": [],
   "source": [
    "education = {'Graduate': 1,'Not Graduate':0} \n",
    "test2.Education = [education[item] for item in test2.Education] \n",
    "#test2.head()"
   ]
  },
  {
   "cell_type": "code",
   "execution_count": 72,
   "id": "legislative-apparatus",
   "metadata": {
    "execution": {
     "iopub.execute_input": "2021-06-19T20:53:35.010856Z",
     "iopub.status.busy": "2021-06-19T20:53:35.010149Z",
     "iopub.status.idle": "2021-06-19T20:53:35.013557Z",
     "shell.execute_reply": "2021-06-19T20:53:35.013033Z",
     "shell.execute_reply.started": "2021-06-19T20:52:19.505809Z"
    },
    "papermill": {
     "duration": 0.144518,
     "end_time": "2021-06-19T20:53:35.013699",
     "exception": false,
     "start_time": "2021-06-19T20:53:34.869181",
     "status": "completed"
    },
    "tags": []
   },
   "outputs": [],
   "source": [
    "married  = {'Yes': 1,'No':0} \n",
    "test2.Married = [married[item] for item in test2.Married] \n",
    "#test2.head()"
   ]
  },
  {
   "cell_type": "code",
   "execution_count": 73,
   "id": "excess-cornwall",
   "metadata": {
    "execution": {
     "iopub.execute_input": "2021-06-19T20:53:35.186557Z",
     "iopub.status.busy": "2021-06-19T20:53:35.185916Z",
     "iopub.status.idle": "2021-06-19T20:53:35.187821Z",
     "shell.execute_reply": "2021-06-19T20:53:35.188283Z",
     "shell.execute_reply.started": "2021-06-19T20:52:19.514149Z"
    },
    "papermill": {
     "duration": 0.090859,
     "end_time": "2021-06-19T20:53:35.188459",
     "exception": false,
     "start_time": "2021-06-19T20:53:35.097600",
     "status": "completed"
    },
    "tags": []
   },
   "outputs": [],
   "source": [
    "gender  = {'Female': 1,'Male':0} \n",
    "test2.Gender = [gender[item] for item in test2.Gender] \n",
    "#test2.head()"
   ]
  },
  {
   "cell_type": "code",
   "execution_count": null,
   "id": "fourth-arnold",
   "metadata": {
    "papermill": {
     "duration": 0.082965,
     "end_time": "2021-06-19T20:53:35.354711",
     "exception": false,
     "start_time": "2021-06-19T20:53:35.271746",
     "status": "completed"
    },
    "tags": []
   },
   "outputs": [],
   "source": []
  },
  {
   "cell_type": "code",
   "execution_count": 74,
   "id": "above-generic",
   "metadata": {
    "execution": {
     "iopub.execute_input": "2021-06-19T20:53:35.525850Z",
     "iopub.status.busy": "2021-06-19T20:53:35.525199Z",
     "iopub.status.idle": "2021-06-19T20:53:35.531932Z",
     "shell.execute_reply": "2021-06-19T20:53:35.532438Z",
     "shell.execute_reply.started": "2021-06-19T20:52:19.525999Z"
    },
    "papermill": {
     "duration": 0.093503,
     "end_time": "2021-06-19T20:53:35.532615",
     "exception": false,
     "start_time": "2021-06-19T20:53:35.439112",
     "status": "completed"
    },
    "tags": []
   },
   "outputs": [],
   "source": [
    "preds=best_tree.predict(test2)"
   ]
  },
  {
   "cell_type": "code",
   "execution_count": 75,
   "id": "cleared-potato",
   "metadata": {
    "execution": {
     "iopub.execute_input": "2021-06-19T20:53:35.706280Z",
     "iopub.status.busy": "2021-06-19T20:53:35.705653Z",
     "iopub.status.idle": "2021-06-19T20:53:35.712712Z",
     "shell.execute_reply": "2021-06-19T20:53:35.712018Z",
     "shell.execute_reply.started": "2021-06-19T20:52:19.540202Z"
    },
    "papermill": {
     "duration": 0.094019,
     "end_time": "2021-06-19T20:53:35.712874",
     "exception": false,
     "start_time": "2021-06-19T20:53:35.618855",
     "status": "completed"
    },
    "tags": []
   },
   "outputs": [
    {
     "data": {
      "text/plain": [
       "array([1, 1, 1, 1, 1, 1, 1, 0, 1, 1, 1, 1, 1, 0, 1, 1, 1, 1, 1, 1, 1, 1,\n",
       "       1, 1, 1, 0, 1, 1, 1, 1, 1, 1, 1, 1, 1, 0, 1, 1, 1, 1, 1, 1, 1, 1,\n",
       "       1, 1, 1, 1, 1, 1, 1, 1, 1, 1, 1, 0, 1, 1, 0, 1, 1, 1, 1, 0, 1, 1,\n",
       "       0, 0, 1, 0, 1, 1, 1, 1, 1, 1, 1, 1, 1, 1, 0, 1, 0, 1, 0, 1, 1, 1,\n",
       "       1, 1, 1, 1, 1, 1, 0, 1, 1, 1, 1, 1, 1, 0, 1, 1, 1, 1, 0, 1, 1, 1,\n",
       "       1, 1, 1, 1, 1, 1, 1, 0, 0, 0, 1, 1, 1, 0, 0, 1, 0, 1, 1, 1, 1, 1,\n",
       "       1, 1, 1, 1, 1, 1, 1, 1, 0, 1, 0, 1, 1, 1, 1, 0, 1, 1, 1, 1, 1, 0,\n",
       "       1, 1, 1, 1, 1, 1, 1, 0, 1, 1, 1, 0, 0, 1, 0, 1, 1, 1, 1, 0, 0, 1,\n",
       "       1, 1, 1, 1, 1, 1, 1, 1, 1, 1, 1, 1, 1, 1, 1, 1, 0, 0, 1, 1, 0, 1,\n",
       "       0, 1, 1, 1, 1, 1, 1, 1, 1, 1, 1, 1, 1, 0, 1, 1, 1, 1, 1, 1, 1, 1,\n",
       "       1, 1, 1, 1, 0, 1, 1, 1, 1, 0, 1, 1, 1, 1, 1, 0, 0, 1, 1, 1, 1, 0,\n",
       "       1, 0, 1, 0, 1, 1, 1, 1, 0, 1, 1, 1, 1, 0, 1, 1, 1, 1, 1, 1, 1, 1,\n",
       "       1, 1, 0, 1, 0, 1, 1, 1, 1, 0, 0, 1, 1, 1, 0, 1, 1, 1, 1, 1, 1, 1,\n",
       "       1, 1, 1, 1, 1, 1, 1, 0, 1, 1, 1, 1, 1, 1, 1, 0, 1, 1, 1, 1, 1, 1,\n",
       "       1, 1, 1, 0, 1, 1, 1, 1, 1, 0, 1, 1, 1, 1, 1, 1, 1, 0, 1, 1, 1, 1,\n",
       "       1, 1, 1, 1, 1, 1, 1, 1, 1, 0, 1, 1, 1, 1, 1, 1, 0, 1, 1, 1, 1, 1,\n",
       "       1, 1, 0, 1, 1, 1, 1, 1, 1, 1, 1, 1, 1, 1, 1], dtype=int64)"
      ]
     },
     "execution_count": 75,
     "metadata": {},
     "output_type": "execute_result"
    }
   ],
   "source": [
    "preds"
   ]
  },
  {
   "cell_type": "code",
   "execution_count": 76,
   "id": "miniature-burke",
   "metadata": {
    "execution": {
     "iopub.execute_input": "2021-06-19T20:53:35.888361Z",
     "iopub.status.busy": "2021-06-19T20:53:35.887626Z",
     "iopub.status.idle": "2021-06-19T20:53:35.890249Z",
     "shell.execute_reply": "2021-06-19T20:53:35.889627Z",
     "shell.execute_reply.started": "2021-06-19T20:52:19.554000Z"
    },
    "papermill": {
     "duration": 0.09333,
     "end_time": "2021-06-19T20:53:35.890387",
     "exception": false,
     "start_time": "2021-06-19T20:53:35.797057",
     "status": "completed"
    },
    "tags": []
   },
   "outputs": [],
   "source": [
    "loan  = {1: 'Y',0:'N'} \n",
    "preds = [loan[item] for item in preds] \n",
    "#preds"
   ]
  },
  {
   "cell_type": "code",
   "execution_count": 77,
   "id": "civic-tumor",
   "metadata": {
    "execution": {
     "iopub.execute_input": "2021-06-19T20:53:36.068185Z",
     "iopub.status.busy": "2021-06-19T20:53:36.067155Z",
     "iopub.status.idle": "2021-06-19T20:53:36.070298Z",
     "shell.execute_reply": "2021-06-19T20:53:36.069821Z",
     "shell.execute_reply.started": "2021-06-19T20:52:19.563930Z"
    },
    "papermill": {
     "duration": 0.094829,
     "end_time": "2021-06-19T20:53:36.070450",
     "exception": false,
     "start_time": "2021-06-19T20:53:35.975621",
     "status": "completed"
    },
    "tags": []
   },
   "outputs": [],
   "source": [
    "test3=pd.DataFrame()\n",
    "test3[\"Loan_ID\"]=test[\"Loan_ID\"]"
   ]
  },
  {
   "cell_type": "code",
   "execution_count": 78,
   "id": "harmful-removal",
   "metadata": {
    "execution": {
     "iopub.execute_input": "2021-06-19T20:53:36.245461Z",
     "iopub.status.busy": "2021-06-19T20:53:36.244749Z",
     "iopub.status.idle": "2021-06-19T20:53:36.247434Z",
     "shell.execute_reply": "2021-06-19T20:53:36.246927Z",
     "shell.execute_reply.started": "2021-06-19T20:52:19.578801Z"
    },
    "papermill": {
     "duration": 0.091924,
     "end_time": "2021-06-19T20:53:36.247594",
     "exception": false,
     "start_time": "2021-06-19T20:53:36.155670",
     "status": "completed"
    },
    "tags": []
   },
   "outputs": [],
   "source": [
    "test3[\"Loan_Status\"]=preds"
   ]
  },
  {
   "cell_type": "code",
   "execution_count": 79,
   "id": "fluid-collect",
   "metadata": {
    "execution": {
     "iopub.execute_input": "2021-06-19T20:53:36.421098Z",
     "iopub.status.busy": "2021-06-19T20:53:36.420455Z",
     "iopub.status.idle": "2021-06-19T20:53:36.427784Z",
     "shell.execute_reply": "2021-06-19T20:53:36.427247Z",
     "shell.execute_reply.started": "2021-06-19T20:52:19.591696Z"
    },
    "papermill": {
     "duration": 0.095908,
     "end_time": "2021-06-19T20:53:36.427940",
     "exception": false,
     "start_time": "2021-06-19T20:53:36.332032",
     "status": "completed"
    },
    "tags": []
   },
   "outputs": [],
   "source": [
    "test3.to_csv('submitfinal.csv', index=False)"
   ]
  },
  {
   "cell_type": "code",
   "execution_count": 80,
   "id": "subject-qualification",
   "metadata": {
    "execution": {
     "iopub.execute_input": "2021-06-19T20:53:36.604807Z",
     "iopub.status.busy": "2021-06-19T20:53:36.604106Z",
     "iopub.status.idle": "2021-06-19T20:53:36.607889Z",
     "shell.execute_reply": "2021-06-19T20:53:36.607145Z",
     "shell.execute_reply.started": "2021-06-19T20:52:19.605094Z"
    },
    "papermill": {
     "duration": 0.095763,
     "end_time": "2021-06-19T20:53:36.608034",
     "exception": false,
     "start_time": "2021-06-19T20:53:36.512271",
     "status": "completed"
    },
    "tags": []
   },
   "outputs": [],
   "source": [
    "import pickle\n",
    "# open a file, where you ant to store the data\n",
    "file = open('loan_approval_decision_tree_classifier.pkl', 'wb')\n",
    "\n",
    "# dump information to that file\n",
    "pickle.dump(classifier, file)\n"
   ]
  }
 ],
 "metadata": {
  "kernelspec": {
   "display_name": "Python 3",
   "language": "python",
   "name": "python3"
  },
  "language_info": {
   "codemirror_mode": {
    "name": "ipython",
    "version": 3
   },
   "file_extension": ".py",
   "mimetype": "text/x-python",
   "name": "python",
   "nbconvert_exporter": "python",
   "pygments_lexer": "ipython3",
   "version": "3.8.8"
  },
  "papermill": {
   "default_parameters": {},
   "duration": 27.029987,
   "end_time": "2021-06-19T20:53:37.505093",
   "environment_variables": {},
   "exception": null,
   "input_path": "__notebook__.ipynb",
   "output_path": "__notebook__.ipynb",
   "parameters": {},
   "start_time": "2021-06-19T20:53:10.475106",
   "version": "2.3.3"
  }
 },
 "nbformat": 4,
 "nbformat_minor": 5
}
